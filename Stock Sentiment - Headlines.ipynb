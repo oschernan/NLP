{
 "cells": [
  {
   "cell_type": "code",
   "execution_count": 1,
   "metadata": {
    "collapsed": true
   },
   "outputs": [],
   "source": [
    "#DataCamp Project: Extract Stock Sentiment from News Headlines "
   ]
  },
  {
   "cell_type": "markdown",
   "metadata": {
    "dc": {
     "key": "3"
    },
    "deletable": false,
    "editable": false,
    "run_control": {
     "frozen": true
    },
    "tags": [
     "context"
    ]
   },
   "source": [
    "## 1. Searching for gold inside HTML files\n",
    "<p>It used to take days for financial news to spread via radio, newspapers, and word of mouth. Now, in the age of the internet, it takes seconds. Did you know news articles are <em>automatically</em> being generated from figures and earnings call streams? Hedge funds and independent traders are using data science to process this wealth of information in the quest for profit.</p>\n",
    "<p>In this notebook, we will generate investing insight by applying <a href=\"https://en.wikipedia.org/wiki/Sentiment_analysis\">sentiment analysis</a> on financial news headlines from <a href=\"https://finviz.com\">FINVIZ.com</a>. Using this <a href=\"https://en.wikipedia.org/wiki/Natural_language_processing\">natural language processing</a> technique, we can understand the emotion behind the headlines and predict whether the market <em>feels</em> good or bad about a stock. It would then be possible to make educated guesses on how certain stocks will perform and trade accordingly. (And hopefully, make money!)</p>\n",
    "<p><img src=\"https://assets.datacamp.com/production/project_611/img/fb_headlines.png\" alt=\"Facebook headlines from FINVIZ.com\"></p>\n",
    "<p>Why headlines? And why from FINVIZ?</p>\n",
    "<ol>\n",
    "<li>Headlines, which have similar length, are easier to parse and group than full articles, which vary in length.</li>\n",
    "<li>FINVIZ has a list of trusted websites, and headlines from these sites tend to be more consistent in their jargon than those from independent bloggers. Consistent textual patterns will improve the sentiment analysis.</li>\n",
    "</ol>\n",
    "<p>As <a href=\"https://en.wikipedia.org/wiki/Web_scraping\">web scraping</a> requires data science ethics (sending a lot of traffic to a FINVIZ's servers isn't very nice), the HTML files for Facebook and Tesla at various points in time have been downloaded. Let's import these files into memory.</p>\n",
    "<p><strong>Disclaimer: Investing in the stock market involves risk and can lead to monetary loss. The content in this notebook is not to be taken as financial advice.</strong> </p>"
   ]
  },
  {
   "cell_type": "code",
   "execution_count": 2,
   "metadata": {
    "collapsed": true,
    "dc": {
     "key": "3"
    },
    "tags": [
     "sample_code"
    ]
   },
   "outputs": [],
   "source": [
    "# Import libraries\n",
    "from bs4 import BeautifulSoup\n",
    "import os\n",
    "\n",
    "html_tables = {}\n",
    "\n",
    "# For every table in the datasets folder...\n",
    "for table_name in os.listdir('datasets'):\n",
    "    #this is the path to the file. Don't touch!\n",
    "    table_path = f'datasets/{table_name}'\n",
    "    # Open as a python file in read-only mode\n",
    "    table_file = open(table_path, 'r')\n",
    "    # Read the contents of the file into 'html'\n",
    "    html = BeautifulSoup(table_file)\n",
    "    # Find 'news-table' in the Soup and load it into 'html_table'\n",
    "    html_table = html.find(id='news-table')\n",
    "    # Add the table to our dictionary\n",
    "    html_tables[table_name] = html_table\n"
   ]
  },
  {
   "cell_type": "code",
   "execution_count": 3,
   "metadata": {
    "dc": {
     "key": "3"
    },
    "hide": true,
    "tags": [
     "tests"
    ]
   },
   "outputs": [
    {
     "data": {
      "application/json": "{\"success\": true, \"summary\": {\"tests\": 4, \"failures\": 0, \"errors\": 0}, \"tests\": [{\"name\": \"__main__.test_load_html\", \"success\": true, \"message\": \"\"}, {\"name\": \"__main__.test_load_html_table\", \"success\": true, \"message\": \"\"}, {\"name\": \"__main__.test_load_html_tables\", \"success\": true, \"message\": \"\"}, {\"name\": \"__main__.test_html_tables_has_data\", \"success\": true, \"message\": \"\"}]}"
     },
     "metadata": {},
     "output_type": "display_data"
    },
    {
     "data": {
      "text/plain": [
       "4/4 tests passed\n"
      ]
     },
     "execution_count": 3,
     "metadata": {},
     "output_type": "execute_result"
    }
   ],
   "source": [
    "%%nose\n",
    "import bs4 \n",
    "\n",
    "def test_load_html():\n",
    "    assert type(html) == bs4.BeautifulSoup, \\\n",
    "    'You should load the BeautifulSoup objects in variable named html.'\n",
    "    \n",
    "def test_load_html_table():\n",
    "    assert type(html_table) == bs4.element.Tag, \\\n",
    "    'You should load the news-table tags in the variable named html_table.' \n",
    "    \n",
    "def test_load_html_tables():\n",
    "    assert len(html_tables) == 5, \\\n",
    "    'You should load all five tables in the html tables dictionary.'\n",
    "    \n",
    "def test_html_tables_has_data():\n",
    "    assert type(html_tables['tsla_26nov.html'])  == bs4.element.Tag, \\\n",
    "    'You should load the news-table elements into the html_tables dictionary.'"
   ]
  },
  {
   "cell_type": "markdown",
   "metadata": {
    "dc": {
     "key": "10"
    },
    "deletable": false,
    "editable": false,
    "run_control": {
     "frozen": true
    },
    "tags": [
     "context"
    ]
   },
   "source": [
    "## 2. What is inside those files anyway?\n",
    "<p>We've grabbed the table that contains the headlines from each stock's HTML file, but before we start parsing those tables further, we need to understand how the data in that table is structured. We have a few options for this:</p>\n",
    "<ul>\n",
    "<li>Open the HTML file with a text editor (preferably one with syntax highlighting, like <a href=\"http://www.sublimetext.com/\">Sublime Text</a>) and explore it there</li>\n",
    "<li>Use your browser's <a href=\"https://addons.mozilla.org/en-US/firefox/addon/web-developer/\">webdev toolkit</a> to explore the HTML</li>\n",
    "<li>Explore the headlines table here in this notebook!</li>\n",
    "</ul>\n",
    "<p>Let's do the third option.</p>"
   ]
  },
  {
   "cell_type": "code",
   "execution_count": 4,
   "metadata": {
    "dc": {
     "key": "10"
    },
    "tags": [
     "sample_code"
    ]
   },
   "outputs": [
    {
     "name": "stdout",
     "output_type": "stream",
     "text": [
      "File number 1:\n",
      "Billionaire investor questions Elon Musk getting 'a pass' after bombshell tweets\n",
      "Sep-21-18 09:56PM  \n",
      "File number 2:\n",
      "Broadcoms Stock Looks Like a Winner\n",
      "09:30PM  \n",
      "File number 3:\n",
      "SHAREHOLDER ALERT:  Pomerantz Law Firm Reminds Shareholders with Losses on their Investment in Tesla, Inc. of Class Action Lawsuit and Upcoming Deadline  TSLA\n",
      "05:30PM  \n",
      "File number 4:\n",
      "Tesla's People Problem and the Inscrutable Musk: 2 Things That Make You Go Hmmm\n",
      "05:30PM  \n"
     ]
    }
   ],
   "source": [
    "# Read one single day of headlines \n",
    "tsla = html_tables['tsla_22sep.html']\n",
    "# Get all the table rows tagged in HTML with <tr> into 'tesla_tr'\n",
    "tsla_tr = tsla.findAll('tr')\n",
    "\n",
    "# For each row...\n",
    "for i, table_row in enumerate(tsla_tr):\n",
    "    # Read the text of the element 'a' into 'link_text'\n",
    "    link_text = table_row.a.get_text()\n",
    "    # Read the text of the element 'td' into 'data_text'\n",
    "    data_text = table_row.td.get_text()\n",
    "    # Print the count\n",
    "    print(f'File number {i+1}:')\n",
    "    # Print the contents of 'link_text' and 'data_text' \n",
    "    print(link_text)\n",
    "    print(data_text)\n",
    "    # The following exits the loop after four rows to prevent spamming the notebook, do not touch\n",
    "    if i == 3:\n",
    "        break\n"
   ]
  },
  {
   "cell_type": "code",
   "execution_count": 5,
   "metadata": {
    "dc": {
     "key": "10"
    },
    "hide": true,
    "tags": [
     "tests"
    ]
   },
   "outputs": [
    {
     "data": {
      "application/json": "{\"success\": true, \"summary\": {\"tests\": 2, \"failures\": 0, \"errors\": 0}, \"tests\": [{\"name\": \"__main__.test_link_ok\", \"success\": true, \"message\": \"\"}, {\"name\": \"__main__.test_data_ok\", \"success\": true, \"message\": \"\"}]}"
     },
     "metadata": {},
     "output_type": "display_data"
    },
    {
     "data": {
      "text/plain": [
       "2/2 tests passed\n"
      ]
     },
     "execution_count": 5,
     "metadata": {},
     "output_type": "execute_result"
    }
   ],
   "source": [
    "%%nose\n",
    "\n",
    "def test_link_ok():\n",
    "    assert link_text == \"Tesla's People Problem and the Inscrutable Musk: 2 Things That Make You Go Hmmm\", \\\n",
    "    \"Iterate through table_row and load link_text exactly 3 times.\"\n",
    "    \n",
    "def test_data_ok():\n",
    "    assert data_text == '05:30PM\\xa0\\xa0', \\\n",
    "    \"Iterate through table_row and load data_text exactly 3 times.\""
   ]
  },
  {
   "cell_type": "markdown",
   "metadata": {
    "dc": {
     "key": "17"
    },
    "deletable": false,
    "editable": false,
    "run_control": {
     "frozen": true
    },
    "tags": [
     "context"
    ]
   },
   "source": [
    "## 3. Extra, extra! Extract the news headlines\n",
    "<p>As we saw above, the interesting data inside each table row (<code>&lt;tr&gt;</code>) is in the text inside the <code>&lt;td&gt;</code> and <code>&lt;a&gt;</code> tags. Let's now actually parse the data for <strong>all</strong> tables in a comfortable data structure.</p>"
   ]
  },
  {
   "cell_type": "code",
   "execution_count": 6,
   "metadata": {
    "collapsed": true,
    "dc": {
     "key": "17"
    },
    "tags": [
     "sample_code"
    ]
   },
   "outputs": [],
   "source": [
    "# Hold the parsed news into a list\n",
    "parsed_news = []\n",
    "# Iterate through the news\n",
    "for file_name, news_table in html_tables.items():\n",
    "    # Iterate through all tr tags in 'news_table'\n",
    "    for x in news_table.findAll('tr'):\n",
    "        # Read the text from the tr tag into text\n",
    "        text = x.get_text() \n",
    "        # Split the text in the td tag into a list \n",
    "        date_scrape = x.td.text.split()\n",
    "        # If the length of 'date_scrape' is 1, load 'time' as the only element\n",
    "        # If not, load 'date' as the 1st element and 'time' as the second\n",
    "        if len(date_scrape) == 1:\n",
    "            time = date_scrape[0]\n",
    "        else:\n",
    "            date = date_scrape[0]\n",
    "            time = date_scrape[1]\n",
    "\n",
    "        # Extract the ticker from the file name, get the string up to the 1st '_'  \n",
    "        ticker = file_name.split('_')[0]\n",
    "        # Append ticker, date, time and headline as a list to the 'parsed_news' list\n",
    "        parsed_news.append([ticker, date, time, x.a.text])\n"
   ]
  },
  {
   "cell_type": "code",
   "execution_count": 7,
   "metadata": {
    "dc": {
     "key": "17"
    },
    "hide": true,
    "tags": [
     "tests"
    ]
   },
   "outputs": [
    {
     "name": "stderr",
     "output_type": "stream",
     "text": [
      "DEBUG:matplotlib:matplotlib data path /usr/local/lib/python3.6/dist-packages/matplotlib/mpl-data\n",
      "DEBUG:matplotlib:loaded rc file /etc/matplotlibrc\n",
      "DEBUG:matplotlib:matplotlib version 2.2.3\n",
      "DEBUG:matplotlib:interactive is False\n",
      "DEBUG:matplotlib:platform is linux\n",
      "DEBUG:matplotlib:loaded modules: ['builtins', 'sys', '_frozen_importlib', '_imp', '_warnings', '_thread', '_weakref', '_frozen_importlib_external', '_io', 'marshal', 'posix', 'zipimport', 'encodings', 'codecs', '_codecs', 'encodings.aliases', 'encodings.utf_8', '_signal', '__main__', 'encodings.latin_1', 'io', 'abc', '_weakrefset', '_bootlocale', '_locale', 'warnings', 're', 'enum', 'types', 'functools', '_functools', 'collections', '_collections_abc', 'operator', '_operator', 'keyword', 'heapq', '_heapq', 'itertools', 'reprlib', '_collections', 'weakref', 'collections.abc', 'sre_compile', '_sre', 'sre_parse', 'sre_constants', 'copyreg', 'site', 'os', 'errno', 'stat', '_stat', 'posixpath', 'genericpath', 'os.path', '_sitebuiltins', 'sysconfig', '_sysconfigdata_m_linux_x86_64-linux-gnu', 'importlib', 'importlib._bootstrap', 'importlib._bootstrap_external', 'importlib.util', 'importlib.abc', 'importlib.machinery', 'contextlib', 'mpl_toolkits', 'sitecustomize', 'runpy', 'pkgutil', 'ipykernel', 'ipykernel._version', 'ipykernel.connect', '__future__', 'json', 'json.decoder', 'json.scanner', '_json', 'json.encoder', 'subprocess', 'time', 'signal', '_posixsubprocess', 'select', 'selectors', 'math', 'threading', 'traceback', 'linecache', 'tokenize', 'token', 'IPython', 'IPython.core', 'IPython.core.getipython', 'IPython.core.release', 'IPython.core.application', 'atexit', 'copy', 'glob', 'fnmatch', 'logging', 'string', '_string', 'shutil', 'zlib', 'bz2', '_compression', '_bz2', 'lzma', '_lzma', 'pwd', 'grp', 'traitlets', 'traitlets.traitlets', 'inspect', 'ast', '_ast', 'dis', 'opcode', '_opcode', 'six', 'struct', '_struct', 'traitlets.utils', 'traitlets.utils.getargspec', 'traitlets.utils.importstring', 'ipython_genutils', 'ipython_genutils._version', 'ipython_genutils.py3compat', 'ipython_genutils.encoding', 'locale', 'platform', 'traitlets.utils.sentinel', 'traitlets.utils.bunch', 'traitlets._version', 'traitlets.config', 'traitlets.config.application', 'decorator', 'traitlets.config.configurable', 'traitlets.config.loader', 'argparse', 'textwrap', 'gettext', 'ipython_genutils.path', 'random', 'hashlib', '_hashlib', '_blake2', '_sha3', 'bisect', '_bisect', '_random', 'ipython_genutils.text', 'ipython_genutils.importstring', 'IPython.core.crashhandler', 'pprint', 'IPython.core.ultratb', 'pydoc', 'urllib', 'urllib.parse', 'IPython.core.debugger', 'bdb', 'IPython.utils', 'IPython.utils.PyColorize', 'IPython.utils.coloransi', 'IPython.utils.ipstruct', 'IPython.utils.colorable', 'pygments', 'pygments.util', 'IPython.utils.py3compat', 'IPython.utils.encoding', 'IPython.core.excolors', 'IPython.testing', 'IPython.testing.skipdoctest', 'pdb', 'cmd', 'code', 'codeop', 'IPython.core.display_trap', 'IPython.utils.path', 'IPython.utils.process', 'IPython.utils._process_posix', 'pexpect', 'pexpect.exceptions', 'pexpect.utils', 'pexpect.expect', 'pexpect.pty_spawn', 'pty', 'tty', 'termios', 'ptyprocess', 'ptyprocess.ptyprocess', 'fcntl', 'resource', 'ptyprocess.util', 'pexpect.spawnbase', 'pexpect.run', 'IPython.utils._process_common', 'shlex', 'IPython.utils.decorators', 'IPython.utils.data', 'IPython.utils.terminal', 'IPython.utils.sysinfo', 'IPython.utils._sysinfo', 'IPython.core.profiledir', 'IPython.paths', 'tempfile', 'IPython.utils.importstring', 'IPython.terminal', 'IPython.terminal.embed', 'IPython.core.compilerop', 'IPython.core.magic_arguments', 'IPython.core.error', 'IPython.utils.text', 'pathlib', 'ntpath', 'IPython.core.magic', 'getopt', 'IPython.core.oinspect', 'IPython.core.page', 'IPython.core.display', 'binascii', 'mimetypes', 'IPython.lib', 'IPython.lib.security', 'getpass', 'IPython.lib.pretty', 'datetime', '_datetime', 'IPython.utils.openpy', 'IPython.utils.dir2', 'IPython.utils.wildcard', 'pygments.lexers', 'pygments.lexers._mapping', 'pygments.modeline', 'pygments.plugin', 'pygments.lexers.python', 'pygments.lexer', 'pygments.filter', 'pygments.filters', 'pygments.token', 'pygments.regexopt', 'pygments.unistring', 'pygments.formatters', 'pygments.formatters._mapping', 'pygments.formatters.html', 'pygments.formatter', 'pygments.styles', 'IPython.core.inputtransformer2', 'typing', 'typing.io', 'typing.re', 'IPython.core.interactiveshell', 'asyncio', 'asyncio.base_events', 'concurrent', 'concurrent.futures', 'concurrent.futures._base', 'concurrent.futures.process', 'queue', 'multiprocessing', 'multiprocessing.context', 'multiprocessing.process', 'multiprocessing.reduction', 'pickle', '_compat_pickle', '_pickle', 'socket', '_socket', 'array', '__mp_main__', 'multiprocessing.connection', '_multiprocessing', 'multiprocessing.util', 'concurrent.futures.thread', 'asyncio.compat', 'asyncio.coroutines', 'asyncio.constants', 'asyncio.events', 'asyncio.base_futures', 'asyncio.log', 'asyncio.futures', 'asyncio.base_tasks', '_asyncio', 'asyncio.tasks', 'asyncio.locks', 'asyncio.protocols', 'asyncio.queues', 'asyncio.streams', 'asyncio.subprocess', 'asyncio.transports', 'asyncio.unix_events', 'asyncio.base_subprocess', 'asyncio.selector_events', 'ssl', 'ipaddress', '_ssl', 'base64', 'asyncio.sslproto', 'pickleshare', 'IPython.core.prefilter', 'IPython.core.autocall', 'IPython.core.macro', 'IPython.core.splitinput', 'IPython.core.alias', 'IPython.core.builtin_trap', 'IPython.core.events', 'backcall', 'backcall.backcall', 'IPython.core.displayhook', 'IPython.core.displaypub', 'IPython.core.extensions', 'IPython.core.formatters', 'IPython.utils.sentinel', 'IPython.core.history', 'sqlite3', 'sqlite3.dbapi2', '_sqlite3', 'IPython.core.logger', 'IPython.core.payload', 'IPython.core.usage', 'IPython.display', 'IPython.lib.display', 'html', 'html.entities', 'IPython.utils.io', 'IPython.utils.capture', 'IPython.utils.strdispatch', 'IPython.core.hooks', 'IPython.utils.syspathcontext', 'IPython.utils.tempdir', 'IPython.utils.contexts', 'IPython.core.async_helpers', 'IPython.terminal.interactiveshell', 'prompt_toolkit', 'prompt_toolkit.application', 'prompt_toolkit.application.application', 'prompt_toolkit.buffer', 'prompt_toolkit.application.current', 'prompt_toolkit.eventloop', 'prompt_toolkit.eventloop.base', 'prompt_toolkit.log', 'prompt_toolkit.eventloop.coroutine', 'prompt_toolkit.eventloop.defaults', 'prompt_toolkit.utils', 'six.moves', 'wcwidth', 'wcwidth.wcwidth', 'wcwidth.table_wide', 'wcwidth.table_zero', 'prompt_toolkit.cache', 'prompt_toolkit.eventloop.future', 'prompt_toolkit.eventloop.context', 'prompt_toolkit.eventloop.async_generator', 'six.moves.queue', 'prompt_toolkit.eventloop.event', 'prompt_toolkit.application.run_in_terminal', 'prompt_toolkit.auto_suggest', 'prompt_toolkit.filters', 'prompt_toolkit.filters.base', 'prompt_toolkit.filters.app', 'prompt_toolkit.enums', 'prompt_toolkit.filters.utils', 'prompt_toolkit.filters.cli', 'prompt_toolkit.clipboard', 'prompt_toolkit.clipboard.base', 'prompt_toolkit.selection', 'prompt_toolkit.clipboard.in_memory', 'prompt_toolkit.completion', 'prompt_toolkit.completion.base', 'prompt_toolkit.completion.filesystem', 'prompt_toolkit.completion.word_completer', 'prompt_toolkit.completion.fuzzy_completer', 'prompt_toolkit.document', 'prompt_toolkit.history', 'prompt_toolkit.search', 'prompt_toolkit.key_binding', 'prompt_toolkit.key_binding.key_bindings', 'prompt_toolkit.keys', 'prompt_toolkit.key_binding.vi_state', 'prompt_toolkit.validation', 'prompt_toolkit.input', 'prompt_toolkit.input.base', 'prompt_toolkit.input.defaults', 'prompt_toolkit.input.typeahead', 'prompt_toolkit.key_binding.bindings', 'prompt_toolkit.key_binding.bindings.page_navigation', 'prompt_toolkit.key_binding.bindings.scroll', 'prompt_toolkit.key_binding.defaults', 'prompt_toolkit.key_binding.bindings.basic', 'prompt_toolkit.key_binding.key_processor', 'prompt_toolkit.key_binding.bindings.named_commands', 'prompt_toolkit.key_binding.bindings.completion', 'prompt_toolkit.key_binding.bindings.emacs', 'prompt_toolkit.key_binding.bindings.vi', 'prompt_toolkit.input.vt100_parser', 'prompt_toolkit.input.ansi_escape_sequences', 'prompt_toolkit.key_binding.digraphs', 'prompt_toolkit.key_binding.bindings.mouse', 'prompt_toolkit.layout', 'prompt_toolkit.layout.containers', 'prompt_toolkit.layout.controls', 'prompt_toolkit.formatted_text', 'prompt_toolkit.formatted_text.base', 'prompt_toolkit.formatted_text.html', 'xml', 'xml.dom', 'xml.dom.domreg', 'xml.dom.minidom', 'xml.dom.minicompat', 'xml.dom.xmlbuilder', 'xml.dom.NodeFilter', 'prompt_toolkit.formatted_text.ansi', 'prompt_toolkit.output', 'prompt_toolkit.output.base', 'prompt_toolkit.layout.screen', 'prompt_toolkit.output.defaults', 'prompt_toolkit.output.color_depth', 'prompt_toolkit.output.vt100', 'prompt_toolkit.styles', 'prompt_toolkit.styles.base', 'prompt_toolkit.styles.defaults', 'prompt_toolkit.styles.style', 'prompt_toolkit.styles.named_colors', 'prompt_toolkit.styles.pygments', 'prompt_toolkit.styles.style_transformation', 'colorsys', 'prompt_toolkit.formatted_text.pygments', 'prompt_toolkit.formatted_text.utils', 'prompt_toolkit.lexers', 'prompt_toolkit.lexers.base', 'prompt_toolkit.lexers.pygments', 'prompt_toolkit.mouse_events', 'prompt_toolkit.layout.processors', 'prompt_toolkit.layout.utils', 'prompt_toolkit.layout.dimension', 'prompt_toolkit.layout.margins', 'prompt_toolkit.layout.layout', 'prompt_toolkit.layout.menus', 'prompt_toolkit.renderer', 'prompt_toolkit.layout.mouse_handlers', 'prompt_toolkit.key_binding.bindings.cpr', 'prompt_toolkit.key_binding.emacs_state', 'prompt_toolkit.layout.dummy', 'prompt_toolkit.application.dummy', 'prompt_toolkit.shortcuts', 'prompt_toolkit.shortcuts.dialogs', 'prompt_toolkit.key_binding.bindings.focus', 'prompt_toolkit.widgets', 'prompt_toolkit.widgets.base', 'prompt_toolkit.widgets.toolbars', 'prompt_toolkit.widgets.dialogs', 'prompt_toolkit.widgets.menus', 'prompt_toolkit.shortcuts.prompt', 'prompt_toolkit.key_binding.bindings.auto_suggest', 'prompt_toolkit.key_binding.bindings.open_in_editor', 'prompt_toolkit.shortcuts.utils', 'prompt_toolkit.shortcuts.progress_bar', 'prompt_toolkit.shortcuts.progress_bar.base', 'prompt_toolkit.shortcuts.progress_bar.formatters', 'prompt_toolkit.patch_stdout', 'pygments.style', 'IPython.terminal.debugger', 'IPython.core.completer', 'unicodedata', 'IPython.core.latex_symbols', 'IPython.utils.generics', 'jedi', 'jedi.api', 'parso', 'parso.parser', 'parso.tree', 'parso._compatibility', 'parso.utils', 'parso.pgen2', 'parso.pgen2.generator', 'parso.pgen2.grammar_parser', 'parso.python', 'parso.python.tokenize', 'parso.python.token', 'parso.grammar', 'parso.python.diff', 'difflib', 'parso.python.parser', 'parso.python.tree', 'parso.python.prefix', 'parso.cache', 'gc', 'parso.python.errors', 'parso.normalizer', 'parso.python.pep8', 'parso.file_io', 'jedi._compatibility', 'jedi.parser_utils', 'jedi.debug', 'jedi.settings', 'jedi.cache', 'jedi.api.classes', 'jedi.evaluate', 'jedi.evaluate.utils', 'jedi.evaluate.imports', 'jedi.evaluate.sys_path', 'jedi.evaluate.cache', 'jedi.evaluate.base_context', 'jedi.common', 'jedi.common.context', 'jedi.evaluate.helpers', 'jedi.common.utils', 'jedi.evaluate.compiled', 'jedi.evaluate.compiled.context', 'jedi.evaluate.filters', 'jedi.evaluate.flow_analysis', 'jedi.evaluate.recursion', 'jedi.evaluate.lazy_context', 'jedi.evaluate.compiled.access', 'jedi.evaluate.compiled.getattr_static', 'jedi.evaluate.compiled.fake', 'jedi.evaluate.analysis', 'jedi.evaluate.context', 'jedi.evaluate.context.module', 'jedi.evaluate.context.klass', 'jedi.evaluate.context.function', 'jedi.evaluate.docstrings', 'jedi.evaluate.pep0484', 'jedi.evaluate.arguments', 'jedi.evaluate.context.iterable', 'jedi.evaluate.param', 'jedi.evaluate.context.asynchronous', 'jedi.evaluate.parser_cache', 'jedi.evaluate.context.instance', 'jedi.evaluate.syntax_tree', 'jedi.evaluate.finder', 'jedi.api.keywords', 'pydoc_data', 'pydoc_data.topics', 'jedi.api.interpreter', 'jedi.evaluate.compiled.mixed', 'jedi.api.helpers', 'jedi.api.completion', 'jedi.api.environment', 'filecmp', 'jedi.evaluate.compiled.subprocess', 'jedi.evaluate.compiled.subprocess.functions', 'jedi.api.exceptions', 'jedi.api.project', 'jedi.evaluate.usages', 'IPython.terminal.ptutils', 'IPython.terminal.shortcuts', 'IPython.terminal.magics', 'IPython.lib.clipboard', 'IPython.terminal.pt_inputhooks', 'IPython.terminal.prompts', 'IPython.terminal.ipapp', 'IPython.core.magics', 'IPython.core.magics.auto', 'IPython.core.magics.basic', 'IPython.core.magics.code', 'urllib.request', 'email', 'http', 'http.client', 'email.parser', 'email.feedparser', 'email.errors', 'email._policybase', 'email.header', 'email.quoprimime', 'email.base64mime', 'email.charset', 'email.encoders', 'quopri', 'email.utils', 'email._parseaddr', 'calendar', 'email.message', 'uu', 'email._encoded_words', 'email.iterators', 'urllib.error', 'urllib.response', 'IPython.core.magics.config', 'IPython.core.magics.display', 'IPython.core.magics.execution', 'timeit', 'cProfile', '_lsprof', 'profile', 'optparse', 'pstats', 'IPython.utils.module_paths', 'IPython.utils.timing', 'IPython.core.magics.extension', 'IPython.core.magics.history', 'IPython.core.magics.logging', 'IPython.core.magics.namespace', 'IPython.core.magics.osm', 'IPython.core.magics.packaging', 'IPython.core.magics.pylab', 'IPython.core.pylabtools', 'IPython.core.magics.script', 'IPython.lib.backgroundjobs', 'IPython.core.shellapp', 'IPython.extensions', 'IPython.extensions.storemagic', 'IPython.utils.frame', 'jupyter_client', 'jupyter_client._version', 'jupyter_client.connect', 'zmq', 'ctypes', '_ctypes', 'ctypes._endian', 'zmq.backend', 'zmq.backend.select', 'zmq.backend.cython', 'zmq.backend.cython.constants', 'cython_runtime', 'zmq.backend.cython.error', '_cython_0_29_6', 'zmq.backend.cython.message', 'zmq.error', 'zmq.backend.cython.context', 'zmq.backend.cython.socket', 'zmq.backend.cython.utils', 'zmq.backend.cython._poll', 'zmq.backend.cython._version', 'zmq.backend.cython._device', 'zmq.backend.cython._proxy_steerable', 'zmq.sugar', 'zmq.sugar.constants', 'zmq.utils', 'zmq.utils.constant_names', 'zmq.sugar.context', 'zmq.sugar.attrsettr', 'zmq.sugar.socket', 'zmq.sugar.poll', 'zmq.utils.jsonapi', 'zmq.utils.strtypes', 'zmq.sugar.frame', 'zmq.sugar.tracker', 'zmq.sugar.version', 'zmq.sugar.stopwatch', 'jupyter_client.localinterfaces', 'jupyter_core', 'jupyter_core.version', 'jupyter_core.paths', 'jupyter_client.launcher', 'traitlets.log', 'jupyter_client.client', 'jupyter_client.channels', 'jupyter_client.channelsabc', 'jupyter_client.clientabc', 'jupyter_client.manager', 'jupyter_client.kernelspec', 'jupyter_client.managerabc', 'jupyter_client.blocking', 'jupyter_client.blocking.client', 'jupyter_client.blocking.channels', 'jupyter_client.multikernelmanager', 'uuid', 'ctypes.util', 'ipykernel.kernelapp', 'tornado', 'tornado.ioloop', 'numbers', 'tornado.concurrent', 'tornado.log', 'logging.handlers', 'tornado.escape', 'tornado.util', 'tornado.speedups', 'curses', '_curses', 'tornado.stack_context', 'tornado.platform', 'tornado.platform.auto', 'tornado.platform.posix', 'tornado.platform.common', 'tornado.platform.interface', 'zmq.eventloop', 'zmq.eventloop.ioloop', 'tornado.platform.epoll', 'zmq.eventloop.zmqstream', 'ipykernel.iostream', 'imp', 'jupyter_client.session', 'hmac', 'jupyter_client.jsonutil', 'dateutil', 'dateutil._version', 'dateutil.parser', 'dateutil.parser._parser', 'decimal', '_decimal', 'dateutil.relativedelta', 'dateutil._common', 'dateutil.tz', 'dateutil.tz.tz', 'dateutil.tz._common', 'dateutil.tz._factories', 'dateutil.parser.isoparser', '_strptime', 'jupyter_client.adapter', 'ipykernel.heartbeat', 'ipykernel.ipkernel', 'IPython.utils.tokenutil', 'tornado.gen', 'tornado.platform.asyncio', 'ipykernel.comm', 'ipykernel.comm.manager', 'ipykernel.comm.comm', 'ipykernel.kernelbase', 'tornado.queues', 'tornado.locks', 'ipykernel.jsonutil', 'ipykernel.zmqshell', 'IPython.core.payloadpage', 'ipykernel.displayhook', 'ipykernel.parentpoller', 'encodings.idna', 'stringprep', 'faulthandler', 'ipykernel.datapub', 'ipykernel.serialize', 'ipykernel.pickleutil', 'ipykernel.codeutil', 'IPython.core.completerlib', 'storemagic', 'ipython_nose', 'cgi', 'nose', 'nose.core', 'unittest', 'unittest.result', 'unittest.util', 'unittest.case', 'unittest.suite', 'unittest.loader', 'unittest.main', 'unittest.runner', 'unittest.signals', 'nose.config', 'configparser', 'nose.util', 'nose.pyversion', 'nose.plugins', 'nose.plugins.base', 'nose.plugins.manager', 'nose.failure', 'pkg_resources', 'zipfile', 'plistlib', 'xml.parsers', 'xml.parsers.expat', 'pyexpat.errors', 'pyexpat.model', 'pyexpat', 'xml.parsers.expat.model', 'xml.parsers.expat.errors', 'pkg_resources.extern', 'pkg_resources._vendor', 'pkg_resources.extern.six', 'pkg_resources._vendor.six', 'pkg_resources.extern.six.moves', 'pkg_resources._vendor.six.moves', 'pkg_resources.py31compat', 'pkg_resources.extern.appdirs', 'pkg_resources._vendor.packaging.__about__', 'pkg_resources.extern.packaging', 'pkg_resources.extern.packaging.version', 'pkg_resources.extern.packaging._structures', 'pkg_resources.extern.packaging.specifiers', 'pkg_resources.extern.packaging._compat', 'pkg_resources.extern.packaging.requirements', 'pkg_resources.extern.pyparsing', 'pkg_resources.extern.six.moves.urllib', 'pkg_resources.extern.packaging.markers', 'nose.plugins.plugintest', 'nose.loader', 'nose.case', 'nose.importer', 'nose.selector', 'nose.suite', 'nose.proxy', 'nose.result', 'nose.exc', 'nose.plugins.skip', 'nose.plugins.errorclass', 'nose.plugins.deprecated', 'nose.tools', 'nose.tools.nontrivial', 'nose.tools.trivial', 'bs4', 'bs4.builder', 'bs4.element', 'bs4.dammit', 'chardet', 'chardet.compat', 'chardet.universaldetector', 'chardet.charsetgroupprober', 'chardet.enums', 'chardet.charsetprober', 'chardet.escprober', 'chardet.codingstatemachine', 'chardet.escsm', 'chardet.latin1prober', 'chardet.mbcsgroupprober', 'chardet.utf8prober', 'chardet.mbcssm', 'chardet.sjisprober', 'chardet.mbcharsetprober', 'chardet.chardistribution', 'chardet.euctwfreq', 'chardet.euckrfreq', 'chardet.gb2312freq', 'chardet.big5freq', 'chardet.jisfreq', 'chardet.jpcntx', 'chardet.eucjpprober', 'chardet.gb2312prober', 'chardet.euckrprober', 'chardet.cp949prober', 'chardet.big5prober', 'chardet.euctwprober', 'chardet.sbcsgroupprober', 'chardet.sbcharsetprober', 'chardet.langcyrillicmodel', 'chardet.langgreekmodel', 'chardet.langbulgarianmodel', 'chardet.langthaimodel', 'chardet.langhebrewmodel', 'chardet.hebrewprober', 'chardet.langturkishmodel', 'chardet.version', 'bs4.builder._htmlparser', 'html.parser', '_markupbase', 'nose.plugins.builtin', 'nose.plugins.attrib', 'nose.plugins.capture', 'nose.plugins.logcapture', 'nose.plugins.cover', 'nose.plugins.debug', 'nose.plugins.doctests', 'doctest', 'nose.plugins.isolate', 'nose.plugins.failuredetail', 'nose.inspector', 'nose.plugins.prof', 'nose.plugins.testid', 'nose.plugins.multiprocess', 'nose.plugins.xunit', 'xml.sax', 'xml.sax.xmlreader', 'xml.sax.handler', 'xml.sax._exceptions', 'xml.sax.saxutils', 'nose.plugins.allmodules', 'nose.plugins.collect', 'pandas', 'numpy', 'numpy._globals', 'numpy.__config__', 'numpy.version', 'numpy._distributor_init', 'numpy.core', 'numpy.core.multiarray', 'numpy.core.overrides', 'numpy.core._multiarray_umath', 'numpy.compat', 'numpy.compat._inspect', 'numpy.compat.py3k', 'numpy.core.umath', 'numpy.core.numerictypes', 'numpy.core._string_helpers', 'numpy.core._type_aliases', 'numpy.core._dtype', 'numpy.core.numeric', 'numpy.core.shape_base', 'numpy.core._asarray', 'numpy.core.fromnumeric', 'numpy.core._methods', 'numpy.core._exceptions', 'numpy.core._ufunc_config', 'numpy.core.arrayprint', 'numpy.core.defchararray', 'numpy.core.records', 'numpy.core.memmap', 'numpy.core.function_base', 'numpy.core.machar', 'numpy.core.getlimits', 'numpy.core.einsumfunc', 'numpy.core._add_newdocs', 'numpy.core._multiarray_tests', 'numpy.core._dtype_ctypes', 'numpy.core._internal', 'numpy._pytesttester', 'numpy.lib', 'numpy.lib.mixins', 'numpy.lib.scimath', 'numpy.lib.type_check', 'numpy.lib.ufunclike', 'numpy.lib.index_tricks', 'numpy.matrixlib', 'numpy.matrixlib.defmatrix', 'numpy.linalg', 'numpy.linalg.linalg', 'numpy.lib.twodim_base', 'numpy.linalg.lapack_lite', 'numpy.linalg._umath_linalg', 'numpy.lib.function_base', 'numpy.lib.histograms', 'numpy.lib.stride_tricks', 'numpy.lib.nanfunctions', 'numpy.lib.shape_base', 'numpy.lib.polynomial', 'numpy.lib.utils', 'numpy.lib.arraysetops', 'numpy.lib.npyio', 'numpy.lib.format', 'numpy.lib._datasource', 'numpy.lib._iotools', 'numpy.lib.financial', 'numpy.lib.arrayterator', 'numpy.lib.arraypad', 'numpy.lib._version', 'numpy.fft', 'numpy.fft._pocketfft', 'numpy.fft._pocketfft_internal', 'numpy.fft.helper', 'numpy.polynomial', 'numpy.polynomial.polynomial', 'numpy.polynomial.polyutils', 'numpy.polynomial._polybase', 'numpy.polynomial.chebyshev', 'numpy.polynomial.legendre', 'numpy.polynomial.hermite', 'numpy.polynomial.hermite_e', 'numpy.polynomial.laguerre', 'numpy.random', 'numpy.random._pickle', 'numpy.random.mtrand', 'numpy.random.bit_generator', '_cython_0_29_16', 'numpy.random._common', 'secrets', 'numpy.random._bounded_integers', 'numpy.random._mt19937', 'numpy.random._philox', 'numpy.random._pcg64', 'numpy.random._sfc64', 'numpy.random._generator', 'numpy.ctypeslib', 'numpy.ma', 'numpy.ma.core', 'numpy.ma.extras', 'numpy.testing', 'numpy.testing._private', 'numpy.testing._private.utils', 'numpy.testing._private.decorators', 'numpy.testing._private.nosetester', 'pytz', 'pytz.exceptions', 'pytz.lazy', 'pytz.tzinfo', 'pytz.tzfile', 'pandas.compat', 'distutils', 'distutils.version', 'pandas.compat.chainmap', 'pandas.compat.numpy', 'pandas._libs', 'pandas._libs.tslibs', 'pandas._libs.tslibs.conversion', '_cython_0_28_2', 'pandas._libs.tslibs.nattype', 'pandas._libs.tslibs.np_datetime', 'pandas._libs.tslibs.timedeltas', 'pandas._libs.tslibs.offsets', 'pandas._libs.tslibs.ccalendar', 'pandas._libs.tslibs.strptime', 'pandas._libs.tslibs.timezones', 'pandas._libs.tslibs.parsing', 'pandas._libs.tslibs.period', 'pandas._libs.tslibs.frequencies', 'pandas._libs.tslibs.timestamps', 'pandas._libs.tslibs.fields', 'pandas._libs.tslibs.resolution', 'pandas._libs.hashtable', 'pandas._libs.missing', 'pandas._libs.lib', 'fractions', 'pandas._libs.tslib', 'pandas.core', 'pandas.core.config_init', 'pandas.core.config', 'pandas.io', 'pandas.io.formats', 'pandas.io.formats.printing', 'pandas.core.dtypes', 'pandas.core.dtypes.inference', 'pandas.io.formats.console', 'pandas.io.formats.terminal', 'pandas.core.api', 'pandas.core.arrays', 'pandas.core.arrays.array_', 'pandas.core.dtypes.common', 'pandas._libs.algos', 'pandas.core.dtypes.dtypes', 'pandas._libs.interval', 'pandas.core.dtypes.generic', 'pandas.core.dtypes.base', 'pandas.errors', 'pandas.core.arrays.base', 'pandas.compat.numpy.function', 'pandas.util', 'pandas.util._decorators', 'pandas._libs.properties', 'pandas.core.util', 'pandas.core.util.hashing', 'pandas._libs.hashing', 'pandas.core.dtypes.cast', 'pandas.core.dtypes.missing', 'pandas.util._validators', 'pandas.core.ops', 'pandas._libs.ops', 'pandas.core.common', 'pandas.core.missing', 'pandas.core.arrays.categorical', 'pandas.core.accessor', 'pandas.core.algorithms', 'pandas.core.base', 'pandas.core.nanops', 'pandas.tseries', 'pandas.tseries.offsets', 'dateutil.easter', 'pandas.core.tools', 'pandas.core.tools.datetimes', 'pandas.core.sorting', 'pandas.core.arrays.datetimes', 'pandas.core.arrays.datetimelike', 'pandas.tseries.frequencies', 'pandas.core.arrays._ranges', 'pandas.core.arrays.interval', 'pandas.util._doctools', 'pandas.core.indexes', 'pandas.core.indexes.base', 'pandas._libs.index', 'pandas._libs.join', 'pandas.core.dtypes.concat', 'pandas.core.indexes.frozen', 'pandas.core.strings', 'pandas.core.arrays.period', 'pandas.core.arrays.timedeltas', 'pandas.core.arrays.integer', 'pandas.core.tools.numeric', 'pandas.core.arrays.sparse', 'pandas._libs.sparse', 'pandas.core.arrays.numpy_', 'pandas.core.groupby', 'pandas.core.groupby.groupby', 'pandas._libs.groupby', 'pandas.core.frame', 'pandas.core.generic', 'pandas.core.index', 'pandas.core.indexes.api', 'pandas.core.indexes.category', 'pandas.core.indexes.datetimes', 'pandas.core.indexes.datetimelike', 'pandas.core.tools.timedeltas', 'pandas.core.indexes.numeric', 'pandas.core.indexes.interval', 'pandas.util._exceptions', 'pandas.core.indexes.multi', 'pandas.core.indexes.timedeltas', 'pandas.core.indexes.period', 'pandas.core.indexes.range', 'pandas.core.indexing', 'pandas._libs.indexing', 'pandas.core.internals', 'pandas.core.internals.blocks', 'pandas._libs.internals', 'pandas.core.internals.arrays', 'pandas.core.internals.managers', 'pandas.core.internals.concat', 'pandas.io.formats.format', 'pandas.io.common', 'csv', '_csv', 'mmap', 'pandas.core.internals.construction', 'pandas.core.series', 'pandas.core.indexes.accessors', 'pandas.plotting', 'pandas.plotting._misc', 'pandas.plotting._style', 'pandas.plotting._tools', 'pandas.plotting._core', 'pandas.plotting._compat', 'pandas.plotting._converter', 'matplotlib', 'matplotlib.cbook', 'gzip', 'matplotlib.cbook.deprecation', 'matplotlib.cbook._backports', 'matplotlib.compat', 'matplotlib.compat.subprocess', 'matplotlib.rcsetup', 'matplotlib.testing', 'matplotlib.fontconfig_pattern', 'pyparsing', 'matplotlib.colors', 'matplotlib._color_data', 'cycler', 'six.moves.urllib', 'six.moves.urllib.request', 'matplotlib._version']\n"
     ]
    },
    {
     "data": {
      "application/json": "{\"success\": true, \"summary\": {\"tests\": 5, \"failures\": 0, \"errors\": 0}, \"tests\": [{\"name\": \"__main__.test_date\", \"success\": true, \"message\": \"\"}, {\"name\": \"__main__.test_time\", \"success\": true, \"message\": \"\"}, {\"name\": \"__main__.test_ticker\", \"success\": true, \"message\": \"\"}, {\"name\": \"__main__.test_num_headlines\", \"success\": true, \"message\": \"\"}, {\"name\": \"__main__.test_len_data\", \"success\": true, \"message\": \"\"}]}"
     },
     "metadata": {},
     "output_type": "display_data"
    },
    {
     "data": {
      "text/plain": [
       "5/5 tests passed\n"
      ]
     },
     "execution_count": 7,
     "metadata": {},
     "output_type": "execute_result"
    }
   ],
   "source": [
    "%%nose\n",
    "\n",
    "import pandas as pd\n",
    "\n",
    "def test_date():\n",
    "    assert pd.DataFrame(parsed_news)[1].sort_values().unique()[4] == 'Jan-01-19', \\\n",
    "    'All dates should be loaded in the 2nd column, with format like in \"Jan-01-19\"'\n",
    "    \n",
    "def test_time():\n",
    "    assert pd.DataFrame(parsed_news)[2].sort_values().unique()[4] == '01:06PM', \\\n",
    "    'All dates should be loaded in the 2nd column, with format like in \"01:06PM\"'\n",
    "    \n",
    "def test_ticker():\n",
    "    assert list(pd.DataFrame(parsed_news)[0].sort_values().unique()) == ['fb', 'tsla'], \\\n",
    "    'The tickers loaded in parsed_news should be \"tsla\" and \"fb\". They should be the 1st column.'\n",
    "\n",
    "def test_num_headlines():\n",
    "    assert len(parsed_news) == 500, \\\n",
    "    'The parsed_news list of lists should contain exactly 500 elements.'\n",
    "\n",
    "def test_len_data():\n",
    "    assert len(parsed_news[9]) == 4, \\\n",
    "    'You should have exactly 4 elements inside each sub-list.'"
   ]
  },
  {
   "cell_type": "markdown",
   "metadata": {
    "dc": {
     "key": "24"
    },
    "deletable": false,
    "editable": false,
    "run_control": {
     "frozen": true
    },
    "tags": [
     "context"
    ]
   },
   "source": [
    "## 4. Make NLTK think like a financial journalist\n",
    "<p>Sentiment analysis is very sensitive to context. As an example, saying <em>\"This is so addictive!\"</em> often means something positive if the context is a video game you are enjoying with your friends, but it very often means something negative when we are talking about opioids. Remember that the reason we chose headlines is so we can try to extract sentiment from financial journalists, who like most professionals, have their own lingo. Let's now make NLTK think like a financial journalist by adding some new words and sentiment values to our lexicon.</p>"
   ]
  },
  {
   "cell_type": "code",
   "execution_count": 8,
   "metadata": {
    "collapsed": true,
    "dc": {
     "key": "24"
    },
    "tags": [
     "sample_code"
    ]
   },
   "outputs": [],
   "source": [
    "# NLTK VADER for sentiment analysis\n",
    "from nltk.sentiment.vader import SentimentIntensityAnalyzer\n",
    "\n",
    "# New words and values\n",
    "new_words = {\n",
    "    'crushes': 10,\n",
    "    'beats': 5,\n",
    "    'misses': -5,\n",
    "    'trouble': -10,\n",
    "    'falls': -100,\n",
    "}\n",
    "# Instantiate the sentiment intensity analyzer with the existing lexicon\n",
    "vader = SentimentIntensityAnalyzer()\n",
    "# Update the lexicon\n",
    "vader.lexicon.update(new_words)"
   ]
  },
  {
   "cell_type": "code",
   "execution_count": 9,
   "metadata": {
    "dc": {
     "key": "24"
    },
    "hide": true,
    "tags": [
     "tests"
    ]
   },
   "outputs": [
    {
     "data": {
      "application/json": "{\"success\": true, \"summary\": {\"tests\": 2, \"failures\": 0, \"errors\": 0}, \"tests\": [{\"name\": \"__main__.test_vader\", \"success\": true, \"message\": \"\"}, {\"name\": \"__main__.test_lexicon_len\", \"success\": true, \"message\": \"\"}]}"
     },
     "metadata": {},
     "output_type": "display_data"
    },
    {
     "data": {
      "text/plain": [
       "2/2 tests passed\n"
      ]
     },
     "execution_count": 9,
     "metadata": {},
     "output_type": "execute_result"
    }
   ],
   "source": [
    "%%nose\n",
    "\n",
    "import nltk\n",
    "\n",
    "def test_vader():\n",
    "    assert type(vader) == nltk.sentiment.vader.SentimentIntensityAnalyzer, \\\n",
    "    'The vader object should be a SentimentIntensityAnalyzer instance.'\n",
    "    \n",
    "def test_lexicon_len():\n",
    "    assert len(vader.lexicon) >= 7504, \"The lexicon should have been enriched with at least 5 words.\""
   ]
  },
  {
   "cell_type": "markdown",
   "metadata": {
    "dc": {
     "key": "31"
    },
    "deletable": false,
    "editable": false,
    "run_control": {
     "frozen": true
    },
    "tags": [
     "context"
    ]
   },
   "source": [
    "## 5. BREAKING NEWS: NLTK Crushes Sentiment Estimates\n",
    "<p>Now that we have the data and the algorithm loaded, we will get to the core of the matter: programmatically predicting sentiment out of news headlines! Luckily for us, VADER is very high level so, in this case, we will not adjust the model further<sup>*</sup> other than the lexicon additions from before.</p>\n",
    "<p><sup>*</sup>VADER \"out-of-the-box\" with some extra lexicon would likely translate into <strong>heavy losses</strong> with real money. A real sentiment analysis tool with chances of being profitable will require a very extensive and dedicated to finance news lexicon. Furthermore, it might also not be enough using a pre-packaged model like VADER.</p>"
   ]
  },
  {
   "cell_type": "code",
   "execution_count": 10,
   "metadata": {
    "collapsed": true,
    "dc": {
     "key": "31"
    },
    "tags": [
     "sample_code"
    ]
   },
   "outputs": [],
   "source": [
    "import pandas as pd\n",
    "# Use these column names\n",
    "columns = ['ticker', 'date', 'time', 'headline']\n",
    "# Convert the list of lists into a DataFrame\n",
    "scored_news = pd.DataFrame(parsed_news, columns=columns)\n",
    "\n",
    "# Iterate through the headlines and get the polarity scores\n",
    "scores = [vader.polarity_scores(headline) for headline in scored_news.headline]\n",
    "# Convert the list of dicts into a DataFrame\n",
    "scores_df = pd.DataFrame(scores)\n",
    "scored_news.columns = columns\n",
    "# Join the DataFrames\n",
    "scored_news = scored_news.join(scores_df)\n",
    "# Convert the date column from string to a date\n",
    "scored_news['date'] = pd.to_datetime(scored_news.date).dt.date"
   ]
  },
  {
   "cell_type": "markdown",
   "metadata": {
    "dc": {
     "key": "38"
    },
    "deletable": false,
    "editable": false,
    "run_control": {
     "frozen": true
    },
    "tags": [
     "context"
    ]
   },
   "source": [
    "## 6. Plot all the sentiment in subplots\n",
    "<p>Now that we have the scores, let's start plotting the results. We will start by plotting the time series for the stocks we have.</p>"
   ]
  },
  {
   "cell_type": "code",
   "execution_count": 11,
   "metadata": {
    "dc": {
     "key": "38"
    },
    "tags": [
     "sample_code"
    ]
   },
   "outputs": [
    {
     "name": "stderr",
     "output_type": "stream",
     "text": [
      "DEBUG:matplotlib:$HOME=/home/repl\n",
      "DEBUG:matplotlib:CACHEDIR=/home/repl/.cache/matplotlib\n",
      "INFO:matplotlib.font_manager:font search path ['/usr/local/lib/python3.6/dist-packages/matplotlib/mpl-data/fonts/ttf', '/usr/local/lib/python3.6/dist-packages/matplotlib/mpl-data/fonts/afm', '/usr/local/lib/python3.6/dist-packages/matplotlib/mpl-data/fonts/pdfcorefonts']\n",
      "DEBUG:matplotlib.font_manager:trying fontname /usr/local/lib/python3.6/dist-packages/matplotlib/mpl-data/fonts/ttf/cmss10.ttf\n",
      "DEBUG:matplotlib.font_manager:trying fontname /usr/local/lib/python3.6/dist-packages/matplotlib/mpl-data/fonts/ttf/DejaVuSans-Oblique.ttf\n",
      "DEBUG:matplotlib.font_manager:trying fontname /usr/local/lib/python3.6/dist-packages/matplotlib/mpl-data/fonts/ttf/STIXNonUniBol.ttf\n",
      "DEBUG:matplotlib.font_manager:trying fontname /usr/local/lib/python3.6/dist-packages/matplotlib/mpl-data/fonts/ttf/DejaVuSerif.ttf\n",
      "DEBUG:matplotlib.font_manager:trying fontname /usr/local/lib/python3.6/dist-packages/matplotlib/mpl-data/fonts/ttf/DejaVuSansDisplay.ttf\n",
      "DEBUG:matplotlib.font_manager:trying fontname /usr/local/lib/python3.6/dist-packages/matplotlib/mpl-data/fonts/ttf/STIXSizTwoSymReg.ttf\n",
      "DEBUG:matplotlib.font_manager:trying fontname /usr/local/lib/python3.6/dist-packages/matplotlib/mpl-data/fonts/ttf/STIXNonUniBolIta.ttf\n",
      "DEBUG:matplotlib.font_manager:trying fontname /usr/local/lib/python3.6/dist-packages/matplotlib/mpl-data/fonts/ttf/cmb10.ttf\n",
      "DEBUG:matplotlib.font_manager:trying fontname /usr/local/lib/python3.6/dist-packages/matplotlib/mpl-data/fonts/ttf/DejaVuSerif-Bold.ttf\n",
      "DEBUG:matplotlib.font_manager:trying fontname /usr/local/lib/python3.6/dist-packages/matplotlib/mpl-data/fonts/ttf/STIXSizThreeSymBol.ttf\n",
      "DEBUG:matplotlib.font_manager:trying fontname /usr/local/lib/python3.6/dist-packages/matplotlib/mpl-data/fonts/ttf/DejaVuSansMono-Oblique.ttf\n",
      "DEBUG:matplotlib.font_manager:trying fontname /usr/local/lib/python3.6/dist-packages/matplotlib/mpl-data/fonts/ttf/STIXGeneral.ttf\n",
      "DEBUG:matplotlib.font_manager:trying fontname /usr/local/lib/python3.6/dist-packages/matplotlib/mpl-data/fonts/ttf/cmr10.ttf\n",
      "DEBUG:matplotlib.font_manager:trying fontname /usr/local/lib/python3.6/dist-packages/matplotlib/mpl-data/fonts/ttf/DejaVuSansMono-BoldOblique.ttf\n",
      "DEBUG:matplotlib.font_manager:trying fontname /usr/local/lib/python3.6/dist-packages/matplotlib/mpl-data/fonts/ttf/DejaVuSerif-Italic.ttf\n",
      "DEBUG:matplotlib.font_manager:trying fontname /usr/local/lib/python3.6/dist-packages/matplotlib/mpl-data/fonts/ttf/STIXSizOneSymBol.ttf\n",
      "DEBUG:matplotlib.font_manager:trying fontname /usr/local/lib/python3.6/dist-packages/matplotlib/mpl-data/fonts/ttf/STIXGeneralBolIta.ttf\n",
      "DEBUG:matplotlib.font_manager:trying fontname /usr/local/lib/python3.6/dist-packages/matplotlib/mpl-data/fonts/ttf/cmtt10.ttf\n",
      "DEBUG:matplotlib.font_manager:trying fontname /usr/local/lib/python3.6/dist-packages/matplotlib/mpl-data/fonts/ttf/STIXNonUni.ttf\n",
      "DEBUG:matplotlib.font_manager:trying fontname /usr/local/lib/python3.6/dist-packages/matplotlib/mpl-data/fonts/ttf/STIXGeneralBol.ttf\n",
      "DEBUG:matplotlib.font_manager:trying fontname /usr/local/lib/python3.6/dist-packages/matplotlib/mpl-data/fonts/ttf/DejaVuSansMono-Bold.ttf\n",
      "DEBUG:matplotlib.font_manager:trying fontname /usr/local/lib/python3.6/dist-packages/matplotlib/mpl-data/fonts/ttf/STIXGeneralItalic.ttf\n",
      "DEBUG:matplotlib.font_manager:trying fontname /usr/local/lib/python3.6/dist-packages/matplotlib/mpl-data/fonts/ttf/cmmi10.ttf\n",
      "DEBUG:matplotlib.font_manager:trying fontname /usr/local/lib/python3.6/dist-packages/matplotlib/mpl-data/fonts/ttf/STIXSizOneSymReg.ttf\n",
      "DEBUG:matplotlib.font_manager:trying fontname /usr/local/lib/python3.6/dist-packages/matplotlib/mpl-data/fonts/ttf/STIXSizTwoSymBol.ttf\n",
      "DEBUG:matplotlib.font_manager:trying fontname /usr/local/lib/python3.6/dist-packages/matplotlib/mpl-data/fonts/ttf/DejaVuSans-BoldOblique.ttf\n",
      "DEBUG:matplotlib.font_manager:trying fontname /usr/local/lib/python3.6/dist-packages/matplotlib/mpl-data/fonts/ttf/STIXSizFiveSymReg.ttf\n",
      "DEBUG:matplotlib.font_manager:trying fontname /usr/local/lib/python3.6/dist-packages/matplotlib/mpl-data/fonts/ttf/DejaVuSerifDisplay.ttf\n",
      "DEBUG:matplotlib.font_manager:trying fontname /usr/local/lib/python3.6/dist-packages/matplotlib/mpl-data/fonts/ttf/STIXSizThreeSymReg.ttf\n",
      "DEBUG:matplotlib.font_manager:trying fontname /usr/local/lib/python3.6/dist-packages/matplotlib/mpl-data/fonts/ttf/STIXNonUniIta.ttf\n",
      "DEBUG:matplotlib.font_manager:trying fontname /usr/local/lib/python3.6/dist-packages/matplotlib/mpl-data/fonts/ttf/DejaVuSansMono.ttf\n",
      "DEBUG:matplotlib.font_manager:trying fontname /usr/local/lib/python3.6/dist-packages/matplotlib/mpl-data/fonts/ttf/DejaVuSerif-BoldItalic.ttf\n",
      "DEBUG:matplotlib.font_manager:trying fontname /usr/local/lib/python3.6/dist-packages/matplotlib/mpl-data/fonts/ttf/DejaVuSans-Bold.ttf\n",
      "DEBUG:matplotlib.font_manager:trying fontname /usr/local/lib/python3.6/dist-packages/matplotlib/mpl-data/fonts/ttf/cmex10.ttf\n",
      "DEBUG:matplotlib.font_manager:trying fontname /usr/local/lib/python3.6/dist-packages/matplotlib/mpl-data/fonts/ttf/STIXSizFourSymBol.ttf\n",
      "DEBUG:matplotlib.font_manager:trying fontname /usr/local/lib/python3.6/dist-packages/matplotlib/mpl-data/fonts/ttf/STIXSizFourSymReg.ttf\n",
      "DEBUG:matplotlib.font_manager:trying fontname /usr/local/lib/python3.6/dist-packages/matplotlib/mpl-data/fonts/ttf/DejaVuSans.ttf\n",
      "DEBUG:matplotlib.font_manager:trying fontname /usr/local/lib/python3.6/dist-packages/matplotlib/mpl-data/fonts/ttf/cmsy10.ttf\n",
      "DEBUG:matplotlib.font_manager:trying fontname /usr/share/fonts/truetype/msttcorefonts/Impact.ttf\n",
      "DEBUG:matplotlib.font_manager:trying fontname /usr/share/fonts/truetype/dejavu/DejaVuSerif.ttf\n",
      "DEBUG:matplotlib.font_manager:trying fontname /usr/share/fonts/truetype/msttcorefonts/Times_New_Roman_Italic.ttf\n",
      "DEBUG:matplotlib.font_manager:trying fontname /usr/share/fonts/truetype/msttcorefonts/times.ttf\n",
      "DEBUG:matplotlib.font_manager:trying fontname /usr/share/fonts/truetype/msttcorefonts/Courier_New.ttf\n",
      "DEBUG:matplotlib.font_manager:trying fontname /usr/share/fonts/truetype/msttcorefonts/Courier_New_Bold.ttf\n",
      "DEBUG:matplotlib.font_manager:trying fontname /usr/share/fonts/truetype/liberation/LiberationSansNarrow-Italic.ttf\n",
      "DEBUG:matplotlib.font_manager:trying fontname /usr/share/fonts/truetype/msttcorefonts/Georgia_Italic.ttf\n",
      "DEBUG:matplotlib.font_manager:trying fontname /usr/share/fonts/truetype/msttcorefonts/andalemo.ttf\n",
      "DEBUG:matplotlib.font_manager:trying fontname /usr/share/fonts/truetype/msttcorefonts/Courier_New_Bold_Italic.ttf\n",
      "DEBUG:matplotlib.font_manager:trying fontname /usr/share/fonts/truetype/msttcorefonts/Arial.ttf\n",
      "DEBUG:matplotlib.font_manager:trying fontname /usr/share/fonts/truetype/liberation/LiberationSans-BoldItalic.ttf\n",
      "DEBUG:matplotlib.font_manager:trying fontname /usr/share/fonts/truetype/msttcorefonts/timesbi.ttf\n",
      "DEBUG:matplotlib.font_manager:trying fontname /usr/share/fonts/truetype/msttcorefonts/Trebuchet_MS_Bold_Italic.ttf\n",
      "DEBUG:matplotlib.font_manager:trying fontname /usr/share/fonts/truetype/msttcorefonts/verdanai.ttf\n",
      "DEBUG:matplotlib.font_manager:trying fontname /usr/share/fonts/truetype/msttcorefonts/Comic_Sans_MS_Bold.ttf\n",
      "DEBUG:matplotlib.font_manager:trying fontname /usr/share/fonts/truetype/liberation/LiberationSerif-BoldItalic.ttf\n",
      "DEBUG:matplotlib.font_manager:trying fontname /usr/share/fonts/truetype/dejavu/DejaVuSans-Bold.ttf\n",
      "DEBUG:matplotlib.font_manager:trying fontname /usr/share/fonts/truetype/msttcorefonts/Times_New_Roman_Bold.ttf\n",
      "DEBUG:matplotlib.font_manager:trying fontname /usr/share/fonts/truetype/liberation/LiberationSans-Regular.ttf\n",
      "DEBUG:matplotlib.font_manager:trying fontname /usr/share/fonts/truetype/msttcorefonts/couri.ttf\n",
      "DEBUG:matplotlib.font_manager:trying fontname /usr/share/fonts/truetype/msttcorefonts/Trebuchet_MS.ttf\n",
      "DEBUG:matplotlib.font_manager:trying fontname /usr/share/fonts/truetype/msttcorefonts/verdanaz.ttf\n",
      "DEBUG:matplotlib.font_manager:trying fontname /usr/share/fonts/truetype/liberation/LiberationMono-Italic.ttf\n",
      "DEBUG:matplotlib.font_manager:trying fontname /usr/share/fonts/truetype/msttcorefonts/arialbd.ttf\n",
      "DEBUG:matplotlib.font_manager:trying fontname /usr/share/fonts/truetype/msttcorefonts/Arial_Italic.ttf\n",
      "DEBUG:matplotlib.font_manager:trying fontname /usr/share/fonts/truetype/msttcorefonts/arialbi.ttf\n"
     ]
    },
    {
     "name": "stderr",
     "output_type": "stream",
     "text": [
      "DEBUG:matplotlib.font_manager:trying fontname /usr/share/fonts/truetype/msttcorefonts/Georgia_Bold.ttf\n",
      "DEBUG:matplotlib.font_manager:trying fontname /usr/share/fonts/truetype/msttcorefonts/trebucbi.ttf\n",
      "DEBUG:matplotlib.font_manager:trying fontname /usr/share/fonts/truetype/liberation/LiberationMono-Bold.ttf\n",
      "DEBUG:matplotlib.font_manager:trying fontname /usr/share/fonts/truetype/msttcorefonts/Verdana.ttf\n",
      "DEBUG:matplotlib.font_manager:trying fontname /usr/share/fonts/truetype/liberation/LiberationSans-Italic.ttf\n",
      "DEBUG:matplotlib.font_manager:trying fontname /usr/share/fonts/truetype/msttcorefonts/Verdana_Italic.ttf\n",
      "DEBUG:matplotlib.font_manager:trying fontname /usr/share/fonts/truetype/dejavu/DejaVuSerif-Bold.ttf\n",
      "DEBUG:matplotlib.font_manager:trying fontname /usr/share/fonts/truetype/msttcorefonts/Arial_Bold.ttf\n",
      "DEBUG:matplotlib.font_manager:trying fontname /usr/share/fonts/truetype/msttcorefonts/Trebuchet_MS_Italic.ttf\n",
      "DEBUG:matplotlib.font_manager:trying fontname /usr/share/fonts/truetype/msttcorefonts/georgiai.ttf\n",
      "DEBUG:matplotlib.font_manager:trying fontname /usr/share/fonts/truetype/dejavu/DejaVuSans.ttf\n",
      "DEBUG:matplotlib.font_manager:trying fontname /usr/share/fonts/truetype/msttcorefonts/arial.ttf\n",
      "DEBUG:matplotlib.font_manager:trying fontname /usr/share/fonts/truetype/msttcorefonts/Georgia_Bold_Italic.ttf\n",
      "DEBUG:matplotlib.font_manager:trying fontname /usr/share/fonts/truetype/msttcorefonts/verdana.ttf\n",
      "DEBUG:matplotlib.font_manager:trying fontname /usr/share/fonts/truetype/msttcorefonts/georgia.ttf\n",
      "DEBUG:matplotlib.font_manager:trying fontname /usr/share/fonts/truetype/msttcorefonts/trebucbd.ttf\n",
      "DEBUG:matplotlib.font_manager:trying fontname /usr/share/fonts/truetype/msttcorefonts/courbi.ttf\n",
      "DEBUG:matplotlib.font_manager:trying fontname /usr/share/fonts/truetype/msttcorefonts/comic.ttf\n",
      "DEBUG:matplotlib.font_manager:trying fontname /usr/share/fonts/truetype/msttcorefonts/Verdana_Bold_Italic.ttf\n",
      "DEBUG:matplotlib.font_manager:trying fontname /usr/share/fonts/truetype/dejavu/DejaVuSansMono.ttf\n",
      "DEBUG:matplotlib.font_manager:trying fontname /usr/share/fonts/truetype/msttcorefonts/timesbd.ttf\n",
      "DEBUG:matplotlib.font_manager:trying fontname /usr/share/fonts/truetype/msttcorefonts/Courier_New_Italic.ttf\n",
      "DEBUG:matplotlib.font_manager:trying fontname /usr/share/fonts/truetype/msttcorefonts/comicbd.ttf\n",
      "DEBUG:matplotlib.font_manager:trying fontname /usr/share/fonts/truetype/msttcorefonts/georgiab.ttf\n",
      "DEBUG:matplotlib.font_manager:trying fontname /usr/share/fonts/truetype/liberation/LiberationSans-Bold.ttf\n",
      "DEBUG:matplotlib.font_manager:trying fontname /usr/share/fonts/truetype/msttcorefonts/Comic_Sans_MS.ttf\n",
      "DEBUG:matplotlib.font_manager:trying fontname /usr/share/fonts/truetype/liberation/LiberationSerif-Regular.ttf\n",
      "DEBUG:matplotlib.font_manager:trying fontname /usr/share/fonts/truetype/msttcorefonts/Times_New_Roman_Bold_Italic.ttf\n",
      "DEBUG:matplotlib.font_manager:trying fontname /usr/share/fonts/truetype/msttcorefonts/courbd.ttf\n",
      "DEBUG:matplotlib.font_manager:trying fontname /usr/share/fonts/truetype/liberation/LiberationMono-Regular.ttf\n",
      "DEBUG:matplotlib.font_manager:trying fontname /usr/share/fonts/truetype/msttcorefonts/Georgia.ttf\n",
      "DEBUG:matplotlib.font_manager:trying fontname /usr/share/fonts/truetype/dejavu/DejaVuSansMono-Bold.ttf\n",
      "DEBUG:matplotlib.font_manager:trying fontname /usr/share/fonts/truetype/liberation/LiberationSerif-Bold.ttf\n",
      "DEBUG:matplotlib.font_manager:trying fontname /usr/share/fonts/truetype/msttcorefonts/verdanab.ttf\n",
      "DEBUG:matplotlib.font_manager:trying fontname /usr/share/fonts/truetype/liberation/LiberationSansNarrow-Regular.ttf\n",
      "DEBUG:matplotlib.font_manager:trying fontname /usr/share/fonts/truetype/msttcorefonts/Trebuchet_MS_Bold.ttf\n",
      "DEBUG:matplotlib.font_manager:trying fontname /usr/share/fonts/truetype/msttcorefonts/Verdana_Bold.ttf\n",
      "DEBUG:matplotlib.font_manager:trying fontname /usr/share/fonts/truetype/msttcorefonts/Times_New_Roman.ttf\n",
      "DEBUG:matplotlib.font_manager:trying fontname /usr/share/fonts/truetype/msttcorefonts/impact.ttf\n",
      "DEBUG:matplotlib.font_manager:trying fontname /usr/share/fonts/truetype/liberation/LiberationSansNarrow-Bold.ttf\n",
      "DEBUG:matplotlib.font_manager:trying fontname /usr/share/fonts/truetype/msttcorefonts/Webdings.ttf\n",
      "DEBUG:matplotlib.font_manager:trying fontname /usr/share/fonts/truetype/msttcorefonts/timesi.ttf\n",
      "DEBUG:matplotlib.font_manager:trying fontname /usr/share/fonts/truetype/msttcorefonts/Arial_Black.ttf\n",
      "DEBUG:matplotlib.font_manager:trying fontname /usr/share/fonts/truetype/msttcorefonts/ariblk.ttf\n",
      "DEBUG:matplotlib.font_manager:trying fontname /usr/share/fonts/truetype/liberation/LiberationSansNarrow-BoldItalic.ttf\n",
      "DEBUG:matplotlib.font_manager:trying fontname /usr/share/fonts/truetype/msttcorefonts/ariali.ttf\n",
      "DEBUG:matplotlib.font_manager:trying fontname /usr/share/fonts/truetype/msttcorefonts/georgiaz.ttf\n",
      "DEBUG:matplotlib.font_manager:trying fontname /usr/share/fonts/truetype/msttcorefonts/webdings.ttf\n",
      "DEBUG:matplotlib.font_manager:trying fontname /usr/share/fonts/truetype/msttcorefonts/Arial_Bold_Italic.ttf\n",
      "DEBUG:matplotlib.font_manager:trying fontname /usr/share/fonts/truetype/liberation/LiberationMono-BoldItalic.ttf\n",
      "DEBUG:matplotlib.font_manager:trying fontname /usr/share/fonts/truetype/msttcorefonts/trebuc.ttf\n",
      "DEBUG:matplotlib.font_manager:trying fontname /usr/share/fonts/truetype/msttcorefonts/cour.ttf\n",
      "DEBUG:matplotlib.font_manager:trying fontname /usr/share/fonts/truetype/msttcorefonts/trebucit.ttf\n",
      "DEBUG:matplotlib.font_manager:trying fontname /usr/share/fonts/truetype/msttcorefonts/Andale_Mono.ttf\n",
      "DEBUG:matplotlib.font_manager:trying fontname /usr/share/fonts/truetype/liberation/LiberationSerif-Italic.ttf\n",
      "DEBUG:matplotlib.font_manager:createFontDict: /usr/local/lib/python3.6/dist-packages/matplotlib/mpl-data/fonts/ttf/cmss10.ttf\n",
      "DEBUG:matplotlib.font_manager:createFontDict: /usr/local/lib/python3.6/dist-packages/matplotlib/mpl-data/fonts/ttf/DejaVuSans-Oblique.ttf\n",
      "DEBUG:matplotlib.font_manager:createFontDict: /usr/local/lib/python3.6/dist-packages/matplotlib/mpl-data/fonts/ttf/STIXNonUniBol.ttf\n",
      "DEBUG:matplotlib.font_manager:createFontDict: /usr/local/lib/python3.6/dist-packages/matplotlib/mpl-data/fonts/ttf/DejaVuSerif.ttf\n",
      "DEBUG:matplotlib.font_manager:createFontDict: /usr/local/lib/python3.6/dist-packages/matplotlib/mpl-data/fonts/ttf/DejaVuSansDisplay.ttf\n",
      "DEBUG:matplotlib.font_manager:createFontDict: /usr/local/lib/python3.6/dist-packages/matplotlib/mpl-data/fonts/ttf/STIXSizTwoSymReg.ttf\n",
      "DEBUG:matplotlib.font_manager:createFontDict: /usr/local/lib/python3.6/dist-packages/matplotlib/mpl-data/fonts/ttf/STIXNonUniBolIta.ttf\n",
      "DEBUG:matplotlib.font_manager:createFontDict: /usr/local/lib/python3.6/dist-packages/matplotlib/mpl-data/fonts/ttf/cmb10.ttf\n",
      "DEBUG:matplotlib.font_manager:createFontDict: /usr/local/lib/python3.6/dist-packages/matplotlib/mpl-data/fonts/ttf/DejaVuSerif-Bold.ttf\n",
      "DEBUG:matplotlib.font_manager:createFontDict: /usr/local/lib/python3.6/dist-packages/matplotlib/mpl-data/fonts/ttf/STIXSizThreeSymBol.ttf\n",
      "DEBUG:matplotlib.font_manager:createFontDict: /usr/local/lib/python3.6/dist-packages/matplotlib/mpl-data/fonts/ttf/DejaVuSansMono-Oblique.ttf\n",
      "DEBUG:matplotlib.font_manager:createFontDict: /usr/local/lib/python3.6/dist-packages/matplotlib/mpl-data/fonts/ttf/STIXGeneral.ttf\n",
      "DEBUG:matplotlib.font_manager:createFontDict: /usr/local/lib/python3.6/dist-packages/matplotlib/mpl-data/fonts/ttf/cmr10.ttf\n",
      "DEBUG:matplotlib.font_manager:createFontDict: /usr/local/lib/python3.6/dist-packages/matplotlib/mpl-data/fonts/ttf/DejaVuSansMono-BoldOblique.ttf\n",
      "DEBUG:matplotlib.font_manager:createFontDict: /usr/local/lib/python3.6/dist-packages/matplotlib/mpl-data/fonts/ttf/DejaVuSerif-Italic.ttf\n",
      "DEBUG:matplotlib.font_manager:createFontDict: /usr/local/lib/python3.6/dist-packages/matplotlib/mpl-data/fonts/ttf/STIXSizOneSymBol.ttf\n",
      "DEBUG:matplotlib.font_manager:createFontDict: /usr/local/lib/python3.6/dist-packages/matplotlib/mpl-data/fonts/ttf/STIXGeneralBolIta.ttf\n",
      "DEBUG:matplotlib.font_manager:createFontDict: /usr/local/lib/python3.6/dist-packages/matplotlib/mpl-data/fonts/ttf/cmtt10.ttf\n",
      "DEBUG:matplotlib.font_manager:createFontDict: /usr/local/lib/python3.6/dist-packages/matplotlib/mpl-data/fonts/ttf/STIXNonUni.ttf\n"
     ]
    },
    {
     "name": "stderr",
     "output_type": "stream",
     "text": [
      "DEBUG:matplotlib.font_manager:createFontDict: /usr/local/lib/python3.6/dist-packages/matplotlib/mpl-data/fonts/ttf/STIXGeneralBol.ttf\n",
      "DEBUG:matplotlib.font_manager:createFontDict: /usr/local/lib/python3.6/dist-packages/matplotlib/mpl-data/fonts/ttf/DejaVuSansMono-Bold.ttf\n",
      "DEBUG:matplotlib.font_manager:createFontDict: /usr/local/lib/python3.6/dist-packages/matplotlib/mpl-data/fonts/ttf/STIXGeneralItalic.ttf\n",
      "DEBUG:matplotlib.font_manager:createFontDict: /usr/local/lib/python3.6/dist-packages/matplotlib/mpl-data/fonts/ttf/cmmi10.ttf\n",
      "DEBUG:matplotlib.font_manager:createFontDict: /usr/local/lib/python3.6/dist-packages/matplotlib/mpl-data/fonts/ttf/STIXSizOneSymReg.ttf\n",
      "DEBUG:matplotlib.font_manager:createFontDict: /usr/local/lib/python3.6/dist-packages/matplotlib/mpl-data/fonts/ttf/STIXSizTwoSymBol.ttf\n",
      "DEBUG:matplotlib.font_manager:createFontDict: /usr/local/lib/python3.6/dist-packages/matplotlib/mpl-data/fonts/ttf/DejaVuSans-BoldOblique.ttf\n",
      "DEBUG:matplotlib.font_manager:createFontDict: /usr/local/lib/python3.6/dist-packages/matplotlib/mpl-data/fonts/ttf/STIXSizFiveSymReg.ttf\n",
      "DEBUG:matplotlib.font_manager:createFontDict: /usr/local/lib/python3.6/dist-packages/matplotlib/mpl-data/fonts/ttf/DejaVuSerifDisplay.ttf\n",
      "DEBUG:matplotlib.font_manager:createFontDict: /usr/local/lib/python3.6/dist-packages/matplotlib/mpl-data/fonts/ttf/STIXSizThreeSymReg.ttf\n",
      "DEBUG:matplotlib.font_manager:createFontDict: /usr/local/lib/python3.6/dist-packages/matplotlib/mpl-data/fonts/ttf/STIXNonUniIta.ttf\n",
      "DEBUG:matplotlib.font_manager:createFontDict: /usr/local/lib/python3.6/dist-packages/matplotlib/mpl-data/fonts/ttf/DejaVuSansMono.ttf\n",
      "DEBUG:matplotlib.font_manager:createFontDict: /usr/local/lib/python3.6/dist-packages/matplotlib/mpl-data/fonts/ttf/DejaVuSerif-BoldItalic.ttf\n",
      "DEBUG:matplotlib.font_manager:createFontDict: /usr/local/lib/python3.6/dist-packages/matplotlib/mpl-data/fonts/ttf/DejaVuSans-Bold.ttf\n",
      "DEBUG:matplotlib.font_manager:createFontDict: /usr/local/lib/python3.6/dist-packages/matplotlib/mpl-data/fonts/ttf/cmex10.ttf\n",
      "DEBUG:matplotlib.font_manager:createFontDict: /usr/local/lib/python3.6/dist-packages/matplotlib/mpl-data/fonts/ttf/STIXSizFourSymBol.ttf\n",
      "DEBUG:matplotlib.font_manager:createFontDict: /usr/local/lib/python3.6/dist-packages/matplotlib/mpl-data/fonts/ttf/STIXSizFourSymReg.ttf\n",
      "DEBUG:matplotlib.font_manager:createFontDict: /usr/local/lib/python3.6/dist-packages/matplotlib/mpl-data/fonts/ttf/DejaVuSans.ttf\n",
      "DEBUG:matplotlib.font_manager:createFontDict: /usr/local/lib/python3.6/dist-packages/matplotlib/mpl-data/fonts/ttf/cmsy10.ttf\n",
      "DEBUG:matplotlib.font_manager:createFontDict: /usr/share/fonts/truetype/msttcorefonts/Impact.ttf\n",
      "DEBUG:matplotlib.font_manager:createFontDict: /usr/share/fonts/truetype/dejavu/DejaVuSerif.ttf\n",
      "DEBUG:matplotlib.font_manager:createFontDict: /usr/share/fonts/truetype/msttcorefonts/Times_New_Roman_Italic.ttf\n",
      "DEBUG:matplotlib.font_manager:createFontDict: /usr/share/fonts/truetype/msttcorefonts/times.ttf\n",
      "DEBUG:matplotlib.font_manager:createFontDict: /usr/share/fonts/truetype/msttcorefonts/Courier_New.ttf\n",
      "DEBUG:matplotlib.font_manager:createFontDict: /usr/share/fonts/truetype/msttcorefonts/Courier_New_Bold.ttf\n",
      "DEBUG:matplotlib.font_manager:createFontDict: /usr/share/fonts/truetype/liberation/LiberationSansNarrow-Italic.ttf\n",
      "DEBUG:matplotlib.font_manager:createFontDict: /usr/share/fonts/truetype/msttcorefonts/Georgia_Italic.ttf\n",
      "DEBUG:matplotlib.font_manager:createFontDict: /usr/share/fonts/truetype/msttcorefonts/andalemo.ttf\n",
      "DEBUG:matplotlib.font_manager:createFontDict: /usr/share/fonts/truetype/msttcorefonts/Courier_New_Bold_Italic.ttf\n",
      "DEBUG:matplotlib.font_manager:createFontDict: /usr/share/fonts/truetype/msttcorefonts/Arial.ttf\n",
      "DEBUG:matplotlib.font_manager:createFontDict: /usr/share/fonts/truetype/liberation/LiberationSans-BoldItalic.ttf\n",
      "DEBUG:matplotlib.font_manager:createFontDict: /usr/share/fonts/truetype/msttcorefonts/timesbi.ttf\n",
      "DEBUG:matplotlib.font_manager:createFontDict: /usr/share/fonts/truetype/msttcorefonts/Trebuchet_MS_Bold_Italic.ttf\n",
      "DEBUG:matplotlib.font_manager:createFontDict: /usr/share/fonts/truetype/msttcorefonts/verdanai.ttf\n",
      "DEBUG:matplotlib.font_manager:createFontDict: /usr/share/fonts/truetype/msttcorefonts/Comic_Sans_MS_Bold.ttf\n",
      "DEBUG:matplotlib.font_manager:createFontDict: /usr/share/fonts/truetype/liberation/LiberationSerif-BoldItalic.ttf\n",
      "DEBUG:matplotlib.font_manager:createFontDict: /usr/share/fonts/truetype/dejavu/DejaVuSans-Bold.ttf\n",
      "DEBUG:matplotlib.font_manager:createFontDict: /usr/share/fonts/truetype/msttcorefonts/Times_New_Roman_Bold.ttf\n",
      "DEBUG:matplotlib.font_manager:createFontDict: /usr/share/fonts/truetype/liberation/LiberationSans-Regular.ttf\n",
      "DEBUG:matplotlib.font_manager:createFontDict: /usr/share/fonts/truetype/msttcorefonts/couri.ttf\n",
      "DEBUG:matplotlib.font_manager:createFontDict: /usr/share/fonts/truetype/msttcorefonts/Trebuchet_MS.ttf\n",
      "DEBUG:matplotlib.font_manager:createFontDict: /usr/share/fonts/truetype/msttcorefonts/verdanaz.ttf\n",
      "DEBUG:matplotlib.font_manager:createFontDict: /usr/share/fonts/truetype/liberation/LiberationMono-Italic.ttf\n",
      "DEBUG:matplotlib.font_manager:createFontDict: /usr/share/fonts/truetype/msttcorefonts/arialbd.ttf\n",
      "DEBUG:matplotlib.font_manager:createFontDict: /usr/share/fonts/truetype/msttcorefonts/Arial_Italic.ttf\n",
      "DEBUG:matplotlib.font_manager:createFontDict: /usr/share/fonts/truetype/msttcorefonts/arialbi.ttf\n",
      "DEBUG:matplotlib.font_manager:createFontDict: /usr/share/fonts/truetype/msttcorefonts/Georgia_Bold.ttf\n",
      "DEBUG:matplotlib.font_manager:createFontDict: /usr/share/fonts/truetype/msttcorefonts/trebucbi.ttf\n",
      "DEBUG:matplotlib.font_manager:createFontDict: /usr/share/fonts/truetype/liberation/LiberationMono-Bold.ttf\n",
      "DEBUG:matplotlib.font_manager:createFontDict: /usr/share/fonts/truetype/msttcorefonts/Verdana.ttf\n",
      "DEBUG:matplotlib.font_manager:createFontDict: /usr/share/fonts/truetype/liberation/LiberationSans-Italic.ttf\n",
      "DEBUG:matplotlib.font_manager:createFontDict: /usr/share/fonts/truetype/msttcorefonts/Verdana_Italic.ttf\n",
      "DEBUG:matplotlib.font_manager:createFontDict: /usr/share/fonts/truetype/dejavu/DejaVuSerif-Bold.ttf\n",
      "DEBUG:matplotlib.font_manager:createFontDict: /usr/share/fonts/truetype/msttcorefonts/Arial_Bold.ttf\n",
      "DEBUG:matplotlib.font_manager:createFontDict: /usr/share/fonts/truetype/msttcorefonts/Trebuchet_MS_Italic.ttf\n",
      "DEBUG:matplotlib.font_manager:createFontDict: /usr/share/fonts/truetype/msttcorefonts/georgiai.ttf\n",
      "DEBUG:matplotlib.font_manager:createFontDict: /usr/share/fonts/truetype/dejavu/DejaVuSans.ttf\n",
      "DEBUG:matplotlib.font_manager:createFontDict: /usr/share/fonts/truetype/msttcorefonts/arial.ttf\n",
      "DEBUG:matplotlib.font_manager:createFontDict: /usr/share/fonts/truetype/msttcorefonts/Georgia_Bold_Italic.ttf\n",
      "DEBUG:matplotlib.font_manager:createFontDict: /usr/share/fonts/truetype/msttcorefonts/verdana.ttf\n",
      "DEBUG:matplotlib.font_manager:createFontDict: /usr/share/fonts/truetype/msttcorefonts/georgia.ttf\n",
      "DEBUG:matplotlib.font_manager:createFontDict: /usr/share/fonts/truetype/msttcorefonts/trebucbd.ttf\n",
      "DEBUG:matplotlib.font_manager:createFontDict: /usr/share/fonts/truetype/msttcorefonts/courbi.ttf\n",
      "DEBUG:matplotlib.font_manager:createFontDict: /usr/share/fonts/truetype/msttcorefonts/comic.ttf\n",
      "DEBUG:matplotlib.font_manager:createFontDict: /usr/share/fonts/truetype/msttcorefonts/Verdana_Bold_Italic.ttf\n",
      "DEBUG:matplotlib.font_manager:createFontDict: /usr/share/fonts/truetype/dejavu/DejaVuSansMono.ttf\n",
      "DEBUG:matplotlib.font_manager:createFontDict: /usr/share/fonts/truetype/msttcorefonts/timesbd.ttf\n",
      "DEBUG:matplotlib.font_manager:createFontDict: /usr/share/fonts/truetype/msttcorefonts/Courier_New_Italic.ttf\n",
      "DEBUG:matplotlib.font_manager:createFontDict: /usr/share/fonts/truetype/msttcorefonts/comicbd.ttf\n",
      "DEBUG:matplotlib.font_manager:createFontDict: /usr/share/fonts/truetype/msttcorefonts/georgiab.ttf\n",
      "DEBUG:matplotlib.font_manager:createFontDict: /usr/share/fonts/truetype/liberation/LiberationSans-Bold.ttf\n",
      "DEBUG:matplotlib.font_manager:createFontDict: /usr/share/fonts/truetype/msttcorefonts/Comic_Sans_MS.ttf\n",
      "DEBUG:matplotlib.font_manager:createFontDict: /usr/share/fonts/truetype/liberation/LiberationSerif-Regular.ttf\n",
      "DEBUG:matplotlib.font_manager:createFontDict: /usr/share/fonts/truetype/msttcorefonts/Times_New_Roman_Bold_Italic.ttf\n"
     ]
    },
    {
     "name": "stderr",
     "output_type": "stream",
     "text": [
      "DEBUG:matplotlib.font_manager:createFontDict: /usr/share/fonts/truetype/msttcorefonts/courbd.ttf\n",
      "DEBUG:matplotlib.font_manager:createFontDict: /usr/share/fonts/truetype/liberation/LiberationMono-Regular.ttf\n",
      "DEBUG:matplotlib.font_manager:createFontDict: /usr/share/fonts/truetype/msttcorefonts/Georgia.ttf\n",
      "DEBUG:matplotlib.font_manager:createFontDict: /usr/share/fonts/truetype/dejavu/DejaVuSansMono-Bold.ttf\n",
      "DEBUG:matplotlib.font_manager:createFontDict: /usr/share/fonts/truetype/liberation/LiberationSerif-Bold.ttf\n",
      "DEBUG:matplotlib.font_manager:createFontDict: /usr/share/fonts/truetype/msttcorefonts/verdanab.ttf\n",
      "DEBUG:matplotlib.font_manager:createFontDict: /usr/share/fonts/truetype/liberation/LiberationSansNarrow-Regular.ttf\n",
      "DEBUG:matplotlib.font_manager:createFontDict: /usr/share/fonts/truetype/msttcorefonts/Trebuchet_MS_Bold.ttf\n",
      "DEBUG:matplotlib.font_manager:createFontDict: /usr/share/fonts/truetype/msttcorefonts/Verdana_Bold.ttf\n",
      "DEBUG:matplotlib.font_manager:createFontDict: /usr/share/fonts/truetype/msttcorefonts/Times_New_Roman.ttf\n",
      "DEBUG:matplotlib.font_manager:createFontDict: /usr/share/fonts/truetype/msttcorefonts/impact.ttf\n",
      "DEBUG:matplotlib.font_manager:createFontDict: /usr/share/fonts/truetype/liberation/LiberationSansNarrow-Bold.ttf\n",
      "DEBUG:matplotlib.font_manager:createFontDict: /usr/share/fonts/truetype/msttcorefonts/Webdings.ttf\n",
      "DEBUG:matplotlib.font_manager:createFontDict: /usr/share/fonts/truetype/msttcorefonts/timesi.ttf\n",
      "DEBUG:matplotlib.font_manager:createFontDict: /usr/share/fonts/truetype/msttcorefonts/Arial_Black.ttf\n",
      "DEBUG:matplotlib.font_manager:createFontDict: /usr/share/fonts/truetype/msttcorefonts/ariblk.ttf\n",
      "DEBUG:matplotlib.font_manager:createFontDict: /usr/share/fonts/truetype/liberation/LiberationSansNarrow-BoldItalic.ttf\n",
      "DEBUG:matplotlib.font_manager:createFontDict: /usr/share/fonts/truetype/msttcorefonts/ariali.ttf\n",
      "DEBUG:matplotlib.font_manager:createFontDict: /usr/share/fonts/truetype/msttcorefonts/georgiaz.ttf\n",
      "DEBUG:matplotlib.font_manager:createFontDict: /usr/share/fonts/truetype/msttcorefonts/webdings.ttf\n",
      "DEBUG:matplotlib.font_manager:createFontDict: /usr/share/fonts/truetype/msttcorefonts/Arial_Bold_Italic.ttf\n",
      "DEBUG:matplotlib.font_manager:createFontDict: /usr/share/fonts/truetype/liberation/LiberationMono-BoldItalic.ttf\n",
      "DEBUG:matplotlib.font_manager:createFontDict: /usr/share/fonts/truetype/msttcorefonts/trebuc.ttf\n",
      "DEBUG:matplotlib.font_manager:createFontDict: /usr/share/fonts/truetype/msttcorefonts/cour.ttf\n",
      "DEBUG:matplotlib.font_manager:createFontDict: /usr/share/fonts/truetype/msttcorefonts/trebucit.ttf\n",
      "DEBUG:matplotlib.font_manager:createFontDict: /usr/share/fonts/truetype/msttcorefonts/Andale_Mono.ttf\n",
      "DEBUG:matplotlib.font_manager:createFontDict: /usr/share/fonts/truetype/liberation/LiberationSerif-Italic.ttf\n",
      "DEBUG:matplotlib.font_manager:createFontDict: /usr/local/lib/python3.6/dist-packages/matplotlib/mpl-data/fonts/afm/pzcmi8a.afm\n",
      "DEBUG:matplotlib.font_manager:createFontDict: /usr/local/lib/python3.6/dist-packages/matplotlib/mpl-data/fonts/afm/pagko8a.afm\n",
      "DEBUG:matplotlib.font_manager:createFontDict: /usr/local/lib/python3.6/dist-packages/matplotlib/mpl-data/fonts/afm/cmmi10.afm\n",
      "DEBUG:matplotlib.font_manager:createFontDict: /usr/local/lib/python3.6/dist-packages/matplotlib/mpl-data/fonts/afm/pcrr8a.afm\n",
      "DEBUG:matplotlib.font_manager:createFontDict: /usr/local/lib/python3.6/dist-packages/matplotlib/mpl-data/fonts/afm/phvl8a.afm\n",
      "DEBUG:matplotlib.font_manager:createFontDict: /usr/local/lib/python3.6/dist-packages/matplotlib/mpl-data/fonts/afm/putb8a.afm\n",
      "DEBUG:matplotlib.font_manager:createFontDict: /usr/local/lib/python3.6/dist-packages/matplotlib/mpl-data/fonts/afm/phvr8a.afm\n",
      "DEBUG:matplotlib.font_manager:createFontDict: /usr/local/lib/python3.6/dist-packages/matplotlib/mpl-data/fonts/afm/ptmbi8a.afm\n",
      "DEBUG:matplotlib.font_manager:createFontDict: /usr/local/lib/python3.6/dist-packages/matplotlib/mpl-data/fonts/afm/phvbo8a.afm\n",
      "DEBUG:matplotlib.font_manager:createFontDict: /usr/local/lib/python3.6/dist-packages/matplotlib/mpl-data/fonts/afm/pncr8a.afm\n",
      "DEBUG:matplotlib.font_manager:createFontDict: /usr/local/lib/python3.6/dist-packages/matplotlib/mpl-data/fonts/afm/pcrro8a.afm\n",
      "DEBUG:matplotlib.font_manager:createFontDict: /usr/local/lib/python3.6/dist-packages/matplotlib/mpl-data/fonts/afm/cmr10.afm\n",
      "DEBUG:matplotlib.font_manager:createFontDict: /usr/local/lib/python3.6/dist-packages/matplotlib/mpl-data/fonts/afm/pagdo8a.afm\n",
      "DEBUG:matplotlib.font_manager:createFontDict: /usr/local/lib/python3.6/dist-packages/matplotlib/mpl-data/fonts/afm/pcrb8a.afm\n",
      "DEBUG:matplotlib.font_manager:createFontDict: /usr/local/lib/python3.6/dist-packages/matplotlib/mpl-data/fonts/afm/cmex10.afm\n",
      "DEBUG:matplotlib.font_manager:createFontDict: /usr/local/lib/python3.6/dist-packages/matplotlib/mpl-data/fonts/afm/phvbo8an.afm\n",
      "DEBUG:matplotlib.font_manager:createFontDict: /usr/local/lib/python3.6/dist-packages/matplotlib/mpl-data/fonts/pdfcorefonts/Helvetica-Bold.afm\n",
      "DEBUG:matplotlib.font_manager:createFontDict: /usr/local/lib/python3.6/dist-packages/matplotlib/mpl-data/fonts/afm/phvb8a.afm\n",
      "DEBUG:matplotlib.font_manager:createFontDict: /usr/local/lib/python3.6/dist-packages/matplotlib/mpl-data/fonts/afm/putri8a.afm\n",
      "DEBUG:matplotlib.font_manager:createFontDict: /usr/local/lib/python3.6/dist-packages/matplotlib/mpl-data/fonts/afm/cmtt10.afm\n",
      "DEBUG:matplotlib.font_manager:createFontDict: /usr/local/lib/python3.6/dist-packages/matplotlib/mpl-data/fonts/pdfcorefonts/Courier-Bold.afm\n",
      "DEBUG:matplotlib.font_manager:createFontDict: /usr/local/lib/python3.6/dist-packages/matplotlib/mpl-data/fonts/pdfcorefonts/Helvetica-Oblique.afm\n",
      "DEBUG:matplotlib.font_manager:createFontDict: /usr/local/lib/python3.6/dist-packages/matplotlib/mpl-data/fonts/afm/pagd8a.afm\n",
      "DEBUG:matplotlib.font_manager:createFontDict: /usr/local/lib/python3.6/dist-packages/matplotlib/mpl-data/fonts/pdfcorefonts/Courier.afm\n",
      "DEBUG:matplotlib.font_manager:createFontDict: /usr/local/lib/python3.6/dist-packages/matplotlib/mpl-data/fonts/pdfcorefonts/Courier-BoldOblique.afm\n",
      "DEBUG:matplotlib.font_manager:createFontDict: /usr/local/lib/python3.6/dist-packages/matplotlib/mpl-data/fonts/afm/pzdr.afm\n",
      "DEBUG:matplotlib.font_manager:createFontDict: /usr/local/lib/python3.6/dist-packages/matplotlib/mpl-data/fonts/afm/phvb8an.afm\n",
      "DEBUG:matplotlib.font_manager:createFontDict: /usr/local/lib/python3.6/dist-packages/matplotlib/mpl-data/fonts/pdfcorefonts/Times-Bold.afm\n",
      "DEBUG:matplotlib.font_manager:createFontDict: /usr/local/lib/python3.6/dist-packages/matplotlib/mpl-data/fonts/afm/pplri8a.afm\n",
      "DEBUG:matplotlib.font_manager:createFontDict: /usr/local/lib/python3.6/dist-packages/matplotlib/mpl-data/fonts/afm/pplr8a.afm\n",
      "DEBUG:matplotlib.font_manager:createFontDict: /usr/local/lib/python3.6/dist-packages/matplotlib/mpl-data/fonts/afm/ptmr8a.afm\n",
      "DEBUG:matplotlib.font_manager:createFontDict: /usr/local/lib/python3.6/dist-packages/matplotlib/mpl-data/fonts/afm/pagk8a.afm\n",
      "DEBUG:matplotlib.font_manager:createFontDict: /usr/local/lib/python3.6/dist-packages/matplotlib/mpl-data/fonts/afm/pncbi8a.afm\n",
      "DEBUG:matplotlib.font_manager:createFontDict: /usr/local/lib/python3.6/dist-packages/matplotlib/mpl-data/fonts/afm/pbkli8a.afm\n",
      "DEBUG:matplotlib.font_manager:createFontDict: /usr/local/lib/python3.6/dist-packages/matplotlib/mpl-data/fonts/afm/putbi8a.afm\n",
      "DEBUG:matplotlib.font_manager:createFontDict: /usr/local/lib/python3.6/dist-packages/matplotlib/mpl-data/fonts/afm/ptmri8a.afm\n",
      "DEBUG:matplotlib.font_manager:createFontDict: /usr/local/lib/python3.6/dist-packages/matplotlib/mpl-data/fonts/afm/pncb8a.afm\n",
      "DEBUG:matplotlib.font_manager:createFontDict: /usr/local/lib/python3.6/dist-packages/matplotlib/mpl-data/fonts/afm/pcrbo8a.afm\n",
      "DEBUG:matplotlib.font_manager:createFontDict: /usr/local/lib/python3.6/dist-packages/matplotlib/mpl-data/fonts/afm/phvlo8a.afm\n",
      "DEBUG:matplotlib.font_manager:createFontDict: /usr/local/lib/python3.6/dist-packages/matplotlib/mpl-data/fonts/afm/pbkdi8a.afm\n",
      "DEBUG:matplotlib.font_manager:createFontDict: /usr/local/lib/python3.6/dist-packages/matplotlib/mpl-data/fonts/pdfcorefonts/Times-Italic.afm\n",
      "DEBUG:matplotlib.font_manager:createFontDict: /usr/local/lib/python3.6/dist-packages/matplotlib/mpl-data/fonts/afm/cmsy10.afm\n"
     ]
    },
    {
     "name": "stderr",
     "output_type": "stream",
     "text": [
      "DEBUG:matplotlib.font_manager:createFontDict: /usr/local/lib/python3.6/dist-packages/matplotlib/mpl-data/fonts/afm/putr8a.afm\n",
      "DEBUG:matplotlib.font_manager:createFontDict: /usr/local/lib/python3.6/dist-packages/matplotlib/mpl-data/fonts/afm/phvr8an.afm\n",
      "DEBUG:matplotlib.font_manager:createFontDict: /usr/local/lib/python3.6/dist-packages/matplotlib/mpl-data/fonts/pdfcorefonts/Helvetica.afm\n",
      "DEBUG:matplotlib.font_manager:createFontDict: /usr/local/lib/python3.6/dist-packages/matplotlib/mpl-data/fonts/afm/pbkl8a.afm\n",
      "DEBUG:matplotlib.font_manager:createFontDict: /usr/local/lib/python3.6/dist-packages/matplotlib/mpl-data/fonts/afm/phvro8an.afm\n",
      "DEBUG:matplotlib.font_manager:createFontDict: /usr/local/lib/python3.6/dist-packages/matplotlib/mpl-data/fonts/pdfcorefonts/Times-Roman.afm\n",
      "DEBUG:matplotlib.font_manager:createFontDict: /usr/local/lib/python3.6/dist-packages/matplotlib/mpl-data/fonts/pdfcorefonts/Times-BoldItalic.afm\n",
      "DEBUG:matplotlib.font_manager:createFontDict: /usr/local/lib/python3.6/dist-packages/matplotlib/mpl-data/fonts/afm/pplbi8a.afm\n",
      "DEBUG:matplotlib.font_manager:createFontDict: /usr/local/lib/python3.6/dist-packages/matplotlib/mpl-data/fonts/pdfcorefonts/Courier-Oblique.afm\n",
      "DEBUG:matplotlib.font_manager:createFontDict: /usr/local/lib/python3.6/dist-packages/matplotlib/mpl-data/fonts/pdfcorefonts/ZapfDingbats.afm\n",
      "DEBUG:matplotlib.font_manager:createFontDict: /usr/local/lib/python3.6/dist-packages/matplotlib/mpl-data/fonts/pdfcorefonts/Helvetica-BoldOblique.afm\n",
      "DEBUG:matplotlib.font_manager:createFontDict: /usr/local/lib/python3.6/dist-packages/matplotlib/mpl-data/fonts/afm/pncri8a.afm\n",
      "DEBUG:matplotlib.font_manager:createFontDict: /usr/local/lib/python3.6/dist-packages/matplotlib/mpl-data/fonts/afm/ptmb8a.afm\n",
      "DEBUG:matplotlib.font_manager:createFontDict: /usr/local/lib/python3.6/dist-packages/matplotlib/mpl-data/fonts/pdfcorefonts/Symbol.afm\n",
      "DEBUG:matplotlib.font_manager:createFontDict: /usr/local/lib/python3.6/dist-packages/matplotlib/mpl-data/fonts/afm/phvro8a.afm\n",
      "DEBUG:matplotlib.font_manager:createFontDict: /usr/local/lib/python3.6/dist-packages/matplotlib/mpl-data/fonts/afm/psyr.afm\n",
      "DEBUG:matplotlib.font_manager:createFontDict: /usr/local/lib/python3.6/dist-packages/matplotlib/mpl-data/fonts/afm/pplb8a.afm\n",
      "DEBUG:matplotlib.font_manager:createFontDict: /usr/local/lib/python3.6/dist-packages/matplotlib/mpl-data/fonts/afm/pbkd8a.afm\n",
      "INFO:matplotlib.font_manager:generated new fontManager\n",
      "DEBUG:matplotlib.backends:backend module://ipykernel.pylab.backend_inline version unknown\n",
      "DEBUG:matplotlib.backends:backend module://ipykernel.pylab.backend_inline version unknown\n"
     ]
    },
    {
     "data": {
      "text/plain": [
       "<matplotlib.axes._subplots.AxesSubplot at 0x7f0c8c20f400>"
      ]
     },
     "execution_count": 11,
     "metadata": {},
     "output_type": "execute_result"
    },
    {
     "name": "stderr",
     "output_type": "stream",
     "text": [
      "DEBUG:matplotlib.font_manager:findfont: Matching :family=sans-serif:style=normal:variant=normal:weight=normal:stretch=normal:size=10.0 to DejaVu Sans ('/usr/local/lib/python3.6/dist-packages/matplotlib/mpl-data/fonts/ttf/DejaVuSans.ttf') with score of 0.050000\n",
      "DEBUG:matplotlib.font_manager:findfont: Matching :family=sans-serif:style=normal:variant=normal:weight=normal:stretch=normal:size=12.0 to DejaVu Sans ('/usr/local/lib/python3.6/dist-packages/matplotlib/mpl-data/fonts/ttf/DejaVuSans.ttf') with score of 0.050000\n"
     ]
    },
    {
     "data": {
      "image/png": "[encoded data removed]",
      "text/plain": [
       "<Figure size 720x432 with 1 Axes>"
      ]
     },
     "metadata": {
      "needs_background": "light"
     },
     "output_type": "display_data"
    },
    {
     "name": "stderr",
     "output_type": "stream",
     "text": [
      "DEBUG:matplotlib.backends:backend module://ipykernel.pylab.backend_inline version unknown\n"
     ]
    }
   ],
   "source": [
    "import matplotlib.pyplot as plt\n",
    "plt.style.use(\"fivethirtyeight\")\n",
    "%matplotlib inline\n",
    "\n",
    "\n",
    "# Group by date and ticker columns from scored_news and calculate the mean\n",
    "mean_c = scored_news.groupby(['date', 'ticker']).mean()\n",
    "# Unstack the column ticker\n",
    "mean_c = mean_c.unstack('ticker')\n",
    "# Get the cross-section of compound in the 'columns' axis\n",
    "mean_c =mean_c.xs('compound', axis='columns')\n",
    "# Plot a bar chart with pandas\n",
    "mean_c.plot.bar(figsize=(10,6))"
   ]
  },
  {
   "cell_type": "code",
   "execution_count": 12,
   "metadata": {
    "dc": {
     "key": "38"
    },
    "hide": true,
    "tags": [
     "tests"
    ]
   },
   "outputs": [
    {
     "data": {
      "application/json": "{\"success\": true, \"summary\": {\"tests\": 3, \"failures\": 0, \"errors\": 0}, \"tests\": [{\"name\": \"__main__.test_mean_shape\", \"success\": true, \"message\": \"\"}, {\"name\": \"__main__.test_ticker\", \"success\": true, \"message\": \"\"}, {\"name\": \"__main__.test_cols\", \"success\": true, \"message\": \"\"}]}"
     },
     "metadata": {},
     "output_type": "display_data"
    },
    {
     "data": {
      "text/plain": [
       "3/3 tests passed\n"
      ]
     },
     "execution_count": 12,
     "metadata": {},
     "output_type": "execute_result"
    }
   ],
   "source": [
    "%%nose\n",
    "\n",
    "def test_mean_shape():\n",
    "    assert mean_c.shape == (23, 2), '\"mean_c\" should have exactly 23 rows and 2 columns.'\n",
    "    \n",
    "def test_ticker():\n",
    "    assert mean_c.columns.name == 'ticker', 'you should group by and unstack the column ticker.'\n",
    "\n",
    "def test_cols():\n",
    "    assert list(mean_c.columns) == ['fb', 'tsla'], 'Columns should be \"fb\" and \"tsla\".'"
   ]
  },
  {
   "cell_type": "markdown",
   "metadata": {
    "dc": {
     "key": "45"
    },
    "deletable": false,
    "editable": false,
    "run_control": {
     "frozen": true
    },
    "tags": [
     "context"
    ]
   },
   "source": [
    "## 7. Weekends and duplicates\n",
    "<p>What happened to Tesla on November 22nd? Since we happen to have the headlines inside our <code>DataFrame</code>, a quick peek reveals that there are a few problems with that particular day: </p>\n",
    "<ul>\n",
    "<li>There are only 5 headlines for that day.</li>\n",
    "<li>Two headlines are verbatim the same as another but from another news outlet.</li>\n",
    "</ul>\n",
    "<p>Let's clean up the dataset a bit, but not too much! While some headlines are the same news piece from different sources, the fact that they are written differently could provide different perspectives on the same story. Plus, when one piece of news is more important, it tends to get more headlines from multiple sources. What we want to get rid of is verbatim copied headlines, as these are very likely coming from the same journalist and are just being \"forwarded\" around, so to speak.</p>"
   ]
  },
  {
   "cell_type": "code",
   "execution_count": 13,
   "metadata": {
    "dc": {
     "key": "45"
    },
    "tags": [
     "sample_code"
    ]
   },
   "outputs": [
    {
     "data": {
      "text/plain": [
       "'Before we had 500 headlines, now we have 476'"
      ]
     },
     "execution_count": 13,
     "metadata": {},
     "output_type": "execute_result"
    }
   ],
   "source": [
    "# Count the number of headlines in scored_news (store as integer)\n",
    "num_news_before = int(scored_news.headline.count())\n",
    "# Drop duplicates based on ticker and headline\n",
    "scored_news_clean = scored_news.drop_duplicates(subset=['ticker', 'headline'], keep='first')\n",
    "# Count number of headlines after dropping duplicates\n",
    "num_news_after = int(scored_news_clean.headline.count())\n",
    "# Print before and after numbers to get an idea of how we did \n",
    "f\"Before we had {num_news_before} headlines, now we have {num_news_after}\""
   ]
  },
  {
   "cell_type": "code",
   "execution_count": 14,
   "metadata": {
    "dc": {
     "key": "45"
    },
    "hide": true,
    "tags": [
     "tests"
    ]
   },
   "outputs": [
    {
     "data": {
      "application/json": "{\"success\": true, \"summary\": {\"tests\": 3, \"failures\": 0, \"errors\": 0}, \"tests\": [{\"name\": \"__main__.test_df_shape\", \"success\": true, \"message\": \"\"}, {\"name\": \"__main__.test_df_cols\", \"success\": true, \"message\": \"\"}, {\"name\": \"__main__.test_scored_news_counts\", \"success\": true, \"message\": \"\"}]}"
     },
     "metadata": {},
     "output_type": "display_data"
    },
    {
     "data": {
      "text/plain": [
       "3/3 tests passed\n"
      ]
     },
     "execution_count": 14,
     "metadata": {},
     "output_type": "execute_result"
    }
   ],
   "source": [
    "%%nose\n",
    "\n",
    "def test_df_shape():\n",
    "    assert scored_news_clean.shape == (476, 8), '\"scored_news_clean\" should have 476 rows and 8 columns.'\n",
    "    \n",
    "def test_df_cols():\n",
    "    l = list(scored_news.columns)\n",
    "    l.sort()\n",
    "    assert l == ['compound', 'date', 'headline', 'neg', 'neu', 'pos', 'ticker', 'time'], \\\n",
    "           '\"scored_news_clean\" should still have the same column names as scored_news.'\n",
    "\n",
    "def test_scored_news_counts():\n",
    "    assert (num_news_before, num_news_after) == (500, 476), \\\n",
    "    '\"num_news_before\" should be 500 and \"num_news_after\" should be 476.'"
   ]
  },
  {
   "cell_type": "markdown",
   "metadata": {
    "dc": {
     "key": "52"
    },
    "deletable": false,
    "editable": false,
    "run_control": {
     "frozen": true
    },
    "tags": [
     "context"
    ]
   },
   "source": [
    "## 8. Sentiment on one single trading day and stock\n",
    "<p>Just to understand the possibilities of this dataset and get a better feel of the data, let's focus on one trading day and one single stock. We will make an informative plot where we will see the smallest grain possible: headline and subscores.</p>"
   ]
  },
  {
   "cell_type": "code",
   "execution_count": 15,
   "metadata": {
    "collapsed": true,
    "dc": {
     "key": "52"
    },
    "tags": [
     "sample_code"
    ]
   },
   "outputs": [],
   "source": [
    "# Set the index to ticker and date\n",
    "single_day = scored_news_clean.set_index(['ticker', 'date'])\n",
    "# Cross-section the fb row\n",
    "single_day = single_day.xs('fb')\n",
    "# Select the 3rd of January of 2019\n",
    "single_day = single_day.loc['2019-01-03']\n",
    "# Convert the datetime string to just the time\n",
    "single_day['time'] = pd.to_datetime(single_day['time']).dt.time\n",
    "# Set the index to time and sort by it\n",
    "single_day = single_day.set_index('time')\n",
    "# Sort it\n",
    "single_day = single_day.sort_index()"
   ]
  },
  {
   "cell_type": "markdown",
   "metadata": {
    "dc": {
     "key": "59"
    },
    "deletable": false,
    "editable": false,
    "run_control": {
     "frozen": true
    },
    "tags": [
     "context"
    ]
   },
   "source": [
    "## 9. Visualize the single day\n",
    "<p>We will make a plot to visualize the positive, negative and neutral scores for a single day of trading and a single stock. This is just one of the many ways to visualize this dataset.</p>"
   ]
  },
  {
   "cell_type": "code",
   "execution_count": 16,
   "metadata": {
    "dc": {
     "key": "59"
    }
   },
   "outputs": [
    {
     "data": {
      "text/html": [
       "<div>\n",
       "<style scoped>\n",
       "    .dataframe tbody tr th:only-of-type {\n",
       "        vertical-align: middle;\n",
       "    }\n",
       "\n",
       "    .dataframe tbody tr th {\n",
       "        vertical-align: top;\n",
       "    }\n",
       "\n",
       "    .dataframe thead th {\n",
       "        text-align: right;\n",
       "    }\n",
       "</style>\n",
       "<table border=\"1\" class=\"dataframe\">\n",
       "  <thead>\n",
       "    <tr style=\"text-align: right;\">\n",
       "      <th></th>\n",
       "      <th>headline</th>\n",
       "      <th>compound</th>\n",
       "      <th>neg</th>\n",
       "      <th>neu</th>\n",
       "      <th>pos</th>\n",
       "    </tr>\n",
       "    <tr>\n",
       "      <th>time</th>\n",
       "      <th></th>\n",
       "      <th></th>\n",
       "      <th></th>\n",
       "      <th></th>\n",
       "      <th></th>\n",
       "    </tr>\n",
       "  </thead>\n",
       "  <tbody>\n",
       "    <tr>\n",
       "      <th>06:00:00</th>\n",
       "      <td>Why Internet Censorship Doesnt Work and Never ...</td>\n",
       "      <td>0.0000</td>\n",
       "      <td>0.000</td>\n",
       "      <td>1.000</td>\n",
       "      <td>0.000</td>\n",
       "    </tr>\n",
       "    <tr>\n",
       "      <th>08:04:00</th>\n",
       "      <td>3 Big Stock Charts for Thursday: Medtronic, Fa...</td>\n",
       "      <td>0.0000</td>\n",
       "      <td>0.000</td>\n",
       "      <td>1.000</td>\n",
       "      <td>0.000</td>\n",
       "    </tr>\n",
       "    <tr>\n",
       "      <th>09:07:00</th>\n",
       "      <td>The Zacks Analyst Blog Highlights: Facebook, W...</td>\n",
       "      <td>0.2500</td>\n",
       "      <td>0.000</td>\n",
       "      <td>0.846</td>\n",
       "      <td>0.154</td>\n",
       "    </tr>\n",
       "    <tr>\n",
       "      <th>09:12:00</th>\n",
       "      <td>Why The FAANGs Are Crucial To A 2019 Market Rally</td>\n",
       "      <td>0.0000</td>\n",
       "      <td>0.000</td>\n",
       "      <td>1.000</td>\n",
       "      <td>0.000</td>\n",
       "    </tr>\n",
       "    <tr>\n",
       "      <th>09:34:00</th>\n",
       "      <td>Apple warning stoking fears of slowdown in Chi...</td>\n",
       "      <td>-0.6369</td>\n",
       "      <td>0.426</td>\n",
       "      <td>0.574</td>\n",
       "      <td>0.000</td>\n",
       "    </tr>\n",
       "  </tbody>\n",
       "</table>\n",
       "</div>"
      ],
      "text/plain": [
       "                                                   headline  compound    neg  \\\n",
       "time                                                                           \n",
       "06:00:00  Why Internet Censorship Doesnt Work and Never ...    0.0000  0.000   \n",
       "08:04:00  3 Big Stock Charts for Thursday: Medtronic, Fa...    0.0000  0.000   \n",
       "09:07:00  The Zacks Analyst Blog Highlights: Facebook, W...    0.2500  0.000   \n",
       "09:12:00  Why The FAANGs Are Crucial To A 2019 Market Rally    0.0000  0.000   \n",
       "09:34:00  Apple warning stoking fears of slowdown in Chi...   -0.6369  0.426   \n",
       "\n",
       "            neu    pos  \n",
       "time                    \n",
       "06:00:00  1.000  0.000  \n",
       "08:04:00  1.000  0.000  \n",
       "09:07:00  0.846  0.154  \n",
       "09:12:00  1.000  0.000  \n",
       "09:34:00  0.574  0.000  "
      ]
     },
     "execution_count": 16,
     "metadata": {},
     "output_type": "execute_result"
    }
   ],
   "source": [
    "single_day.head()"
   ]
  },
  {
   "cell_type": "code",
   "execution_count": 17,
   "metadata": {
    "dc": {
     "key": "59"
    },
    "tags": [
     "sample_code"
    ]
   },
   "outputs": [
    {
     "name": "stderr",
     "output_type": "stream",
     "text": [
      "DEBUG:matplotlib.font_manager:findfont: Matching :family=sans-serif:style=normal:variant=normal:weight=normal:stretch=normal:size=14.399999999999999 to DejaVu Sans ('/usr/local/lib/python3.6/dist-packages/matplotlib/mpl-data/fonts/ttf/DejaVuSans.ttf') with score of 0.050000\n"
     ]
    },
    {
     "data": {
      "image/png": "[encoded data removed]",
      "text/plain": [
       "<Figure size 720x432 with 1 Axes>"
      ]
     },
     "metadata": {
      "needs_background": "light"
     },
     "output_type": "display_data"
    }
   ],
   "source": [
    "TITLE = \"Negative, neutral, and positive sentiment for FB on 2019-01-03\"\n",
    "COLORS = [\"red\",\"orange\", \"green\"]\n",
    "# Drop the columns that aren't useful for the plot\n",
    "plot_day = single_day.drop(columns=['headline', 'compound'])\n",
    "# Change the column names to 'negative', 'positive', and 'neutral'\n",
    "plot_day.columns = ['negative', 'neutral', 'positive']\n",
    "# Plot a stacked bar chart\n",
    "plot_day.plot.bar(stacked=True, figsize=(10,6), title=TITLE, color = COLORS).legend(bbox_to_anchor=(1.2, 0.5))\n",
    "plt.ylabel('Scores');"
   ]
  },
  {
   "cell_type": "code",
   "execution_count": 18,
   "metadata": {
    "dc": {
     "key": "59"
    },
    "hide": true,
    "tags": [
     "tests"
    ]
   },
   "outputs": [
    {
     "data": {
      "application/json": "{\"success\": true, \"summary\": {\"tests\": 3, \"failures\": 0, \"errors\": 0}, \"tests\": [{\"name\": \"__main__.test_shape\", \"success\": true, \"message\": \"\"}, {\"name\": \"__main__.test_cols\", \"success\": true, \"message\": \"\"}, {\"name\": \"__main__.test_index_type\", \"success\": true, \"message\": \"\"}]}"
     },
     "metadata": {},
     "output_type": "display_data"
    },
    {
     "data": {
      "text/plain": [
       "3/3 tests passed\n"
      ]
     },
     "execution_count": 18,
     "metadata": {},
     "output_type": "execute_result"
    }
   ],
   "source": [
    "%%nose\n",
    "\n",
    "import datetime\n",
    "\n",
    "def test_shape():\n",
    "    assert plot_day.shape == (19, 3), 'plot_day should have 19 rows and 3 columns.'\n",
    "    \n",
    "def test_cols():\n",
    "    assert list(plot_day.columns) == ['negative', 'neutral', 'positive'], \\\n",
    "    'plot_day column names should be \"negative\", \"neutral\" and \"positive\".'\n",
    "\n",
    "def test_index_type():\n",
    "    assert plot_day.index.name == 'time', 'The index should be named \"time\".'\n",
    "    "
   ]
  }
 ],
 "metadata": {
  "kernelspec": {
   "display_name": "Python 3",
   "language": "python",
   "name": "python3"
  },
  "language_info": {
   "codemirror_mode": {
    "name": "ipython",
    "version": 3
   },
   "file_extension": ".py",
   "mimetype": "text/x-python",
   "name": "python",
   "nbconvert_exporter": "python",
   "pygments_lexer": "ipython3",
   "version": "3.6.3"
  }
 },
 "nbformat": 4,
 "nbformat_minor": 2
}
